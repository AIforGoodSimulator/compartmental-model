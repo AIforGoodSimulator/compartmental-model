{
 "cells": [
  {
   "cell_type": "markdown",
   "metadata": {},
   "source": [
    "## Load the age descriptions of population within camp and save them in the format of the population paramter template"
   ]
  },
  {
   "cell_type": "code",
   "execution_count": 1,
   "metadata": {},
   "outputs": [],
   "source": [
    "import numpy as np\n",
    "import pandas as pd\n",
    "np.random.seed(seed=42)"
   ]
  },
  {
   "cell_type": "code",
   "execution_count": 8,
   "metadata": {},
   "outputs": [],
   "source": [
    "age=pd.read_csv('age_and_sex.csv')\n",
    "template=pd.read_csv('camp_params_template.csv')"
   ]
  },
  {
   "cell_type": "code",
   "execution_count": 9,
   "metadata": {},
   "outputs": [],
   "source": [
    "template['Camp']=['Moria']*len(template)"
   ]
  },
  {
   "cell_type": "code",
   "execution_count": 10,
   "metadata": {},
   "outputs": [],
   "source": [
    "N=18700"
   ]
  },
  {
   "cell_type": "code",
   "execution_count": 11,
   "metadata": {},
   "outputs": [],
   "source": [
    "age_sampled=np.random.choice(age.V1.values,N)"
   ]
  },
  {
   "cell_type": "code",
   "execution_count": 12,
   "metadata": {},
   "outputs": [],
   "source": [
    "percentage=[]\n",
    "start=0\n",
    "for i in range(8):\n",
    "    if i==7:\n",
    "        #include 80+ to 70=80 bucket\n",
    "        percentage.append(((start <= age_sampled) & (age_sampled < start+20)).sum()/N*100)\n",
    "    else:\n",
    "        percentage.append(((start <= age_sampled) & (age_sampled < start+10)).sum()/N*100)\n",
    "    start+=10"
   ]
  },
  {
   "cell_type": "code",
   "execution_count": 13,
   "metadata": {},
   "outputs": [],
   "source": [
    "percentage.append(N)"
   ]
  },
  {
   "cell_type": "code",
   "execution_count": 14,
   "metadata": {},
   "outputs": [],
   "source": [
    "template['Value']=percentage"
   ]
  },
  {
   "cell_type": "code",
   "execution_count": 15,
   "metadata": {},
   "outputs": [
    {
     "data": {
      "text/html": [
       "<div>\n",
       "<style scoped>\n",
       "    .dataframe tbody tr th:only-of-type {\n",
       "        vertical-align: middle;\n",
       "    }\n",
       "\n",
       "    .dataframe tbody tr th {\n",
       "        vertical-align: top;\n",
       "    }\n",
       "\n",
       "    .dataframe thead th {\n",
       "        text-align: right;\n",
       "    }\n",
       "</style>\n",
       "<table border=\"1\" class=\"dataframe\">\n",
       "  <thead>\n",
       "    <tr style=\"text-align: right;\">\n",
       "      <th></th>\n",
       "      <th>Variable</th>\n",
       "      <th>Camp</th>\n",
       "      <th>Age</th>\n",
       "      <th>Hosp_given_symptomatic</th>\n",
       "      <th>Critical_given_hospitalised</th>\n",
       "      <th>Value</th>\n",
       "      <th>Notes</th>\n",
       "    </tr>\n",
       "  </thead>\n",
       "  <tbody>\n",
       "    <tr>\n",
       "      <th>0</th>\n",
       "      <td>Population_structure</td>\n",
       "      <td>Moria</td>\n",
       "      <td>0-9</td>\n",
       "      <td>0.1</td>\n",
       "      <td>5.0</td>\n",
       "      <td>21.053476</td>\n",
       "      <td>NaN</td>\n",
       "    </tr>\n",
       "    <tr>\n",
       "      <th>1</th>\n",
       "      <td>Population_structure</td>\n",
       "      <td>Moria</td>\n",
       "      <td>10-19</td>\n",
       "      <td>0.3</td>\n",
       "      <td>5.0</td>\n",
       "      <td>17.336898</td>\n",
       "      <td>NaN</td>\n",
       "    </tr>\n",
       "    <tr>\n",
       "      <th>2</th>\n",
       "      <td>Population_structure</td>\n",
       "      <td>Moria</td>\n",
       "      <td>20-29</td>\n",
       "      <td>1.2</td>\n",
       "      <td>5.0</td>\n",
       "      <td>26.352941</td>\n",
       "      <td>NaN</td>\n",
       "    </tr>\n",
       "    <tr>\n",
       "      <th>3</th>\n",
       "      <td>Population_structure</td>\n",
       "      <td>Moria</td>\n",
       "      <td>30-39</td>\n",
       "      <td>3.2</td>\n",
       "      <td>5.0</td>\n",
       "      <td>17.155080</td>\n",
       "      <td>NaN</td>\n",
       "    </tr>\n",
       "    <tr>\n",
       "      <th>4</th>\n",
       "      <td>Population_structure</td>\n",
       "      <td>Moria</td>\n",
       "      <td>40-49</td>\n",
       "      <td>4.9</td>\n",
       "      <td>6.3</td>\n",
       "      <td>9.240642</td>\n",
       "      <td>NaN</td>\n",
       "    </tr>\n",
       "    <tr>\n",
       "      <th>5</th>\n",
       "      <td>Population_structure</td>\n",
       "      <td>Moria</td>\n",
       "      <td>50-59</td>\n",
       "      <td>10.2</td>\n",
       "      <td>12.2</td>\n",
       "      <td>5.550802</td>\n",
       "      <td>NaN</td>\n",
       "    </tr>\n",
       "    <tr>\n",
       "      <th>6</th>\n",
       "      <td>Population_structure</td>\n",
       "      <td>Moria</td>\n",
       "      <td>60-69</td>\n",
       "      <td>16.6</td>\n",
       "      <td>27.4</td>\n",
       "      <td>2.540107</td>\n",
       "      <td>NaN</td>\n",
       "    </tr>\n",
       "    <tr>\n",
       "      <th>7</th>\n",
       "      <td>Population_structure</td>\n",
       "      <td>Moria</td>\n",
       "      <td>70-79</td>\n",
       "      <td>24.3</td>\n",
       "      <td>43.2</td>\n",
       "      <td>0.770053</td>\n",
       "      <td>NaN</td>\n",
       "    </tr>\n",
       "    <tr>\n",
       "      <th>8</th>\n",
       "      <td>Total_population</td>\n",
       "      <td>Moria</td>\n",
       "      <td>NaN</td>\n",
       "      <td>NaN</td>\n",
       "      <td>NaN</td>\n",
       "      <td>18700.000000</td>\n",
       "      <td>NaN</td>\n",
       "    </tr>\n",
       "  </tbody>\n",
       "</table>\n",
       "</div>"
      ],
      "text/plain": [
       "               Variable   Camp    Age  Hosp_given_symptomatic  \\\n",
       "0  Population_structure  Moria    0-9                     0.1   \n",
       "1  Population_structure  Moria  10-19                     0.3   \n",
       "2  Population_structure  Moria  20-29                     1.2   \n",
       "3  Population_structure  Moria  30-39                     3.2   \n",
       "4  Population_structure  Moria  40-49                     4.9   \n",
       "5  Population_structure  Moria  50-59                    10.2   \n",
       "6  Population_structure  Moria  60-69                    16.6   \n",
       "7  Population_structure  Moria  70-79                    24.3   \n",
       "8      Total_population  Moria    NaN                     NaN   \n",
       "\n",
       "   Critical_given_hospitalised         Value  Notes  \n",
       "0                          5.0     21.053476    NaN  \n",
       "1                          5.0     17.336898    NaN  \n",
       "2                          5.0     26.352941    NaN  \n",
       "3                          5.0     17.155080    NaN  \n",
       "4                          6.3      9.240642    NaN  \n",
       "5                         12.2      5.550802    NaN  \n",
       "6                         27.4      2.540107    NaN  \n",
       "7                         43.2      0.770053    NaN  \n",
       "8                          NaN  18700.000000    NaN  "
      ]
     },
     "execution_count": 15,
     "metadata": {},
     "output_type": "execute_result"
    }
   ],
   "source": [
    "template"
   ]
  },
  {
   "cell_type": "code",
   "execution_count": 17,
   "metadata": {},
   "outputs": [],
   "source": [
    "template.to_csv('moria_params.csv')"
   ]
  },
  {
   "cell_type": "code",
   "execution_count": null,
   "metadata": {},
   "outputs": [],
   "source": []
  }
 ],
 "metadata": {
  "kernelspec": {
   "display_name": "Python 3",
   "language": "python",
   "name": "python3"
  },
  "language_info": {
   "codemirror_mode": {
    "name": "ipython",
    "version": 3
   },
   "file_extension": ".py",
   "mimetype": "text/x-python",
   "name": "python",
   "nbconvert_exporter": "python",
   "pygments_lexer": "ipython3",
   "version": "3.7.6"
  }
 },
 "nbformat": 4,
 "nbformat_minor": 4
}
