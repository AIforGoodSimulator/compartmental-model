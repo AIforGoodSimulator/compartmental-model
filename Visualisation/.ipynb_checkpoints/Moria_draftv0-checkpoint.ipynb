{
 "cells": [
  {
   "cell_type": "code",
   "execution_count": 2,
   "metadata": {
    "jupyter": {
     "source_hidden": true
    }
   },
   "outputs": [],
   "source": [
    "from IPython.display import HTML, display\n",
    "from preprocess import read_preprocess_file\n",
    "from tables import *\n",
    "from plots import *"
   ]
  },
  {
   "cell_type": "markdown",
   "metadata": {},
   "source": [
    "#### This report is a draft report from AI for Good Simulator on the COVID-19 situation in Moria camp, Lesbos, Greece. The insights are preliminary and they are subject to future model fixes and improvements"
   ]
  },
  {
   "cell_type": "markdown",
   "metadata": {},
   "source": [
    "# AI for Good Simulator Model Report for Moria Camp"
   ]
  },
  {
   "cell_type": "markdown",
   "metadata": {},
   "source": [
    "## 0. Glossary \n",
    "* symptomatic cases\n",
    "* hospitalisation person days\n",
    "* critical condition person days\n",
    "* deaths"
   ]
  },
  {
   "cell_type": "markdown",
   "metadata": {},
   "source": [
    "## 1. Overview"
   ]
  },
  {
   "cell_type": "markdown",
   "metadata": {},
   "source": [
    "This report provides simulation-based estimates for COVID-19 epidemic scenarios for the Moria camp on Lesbos, an island of Greece. This is one of the largest refugee camps in Europe. There are estimated around 20,000 people currently living in the camp. We estimated peak counts and timing as well as cumulative counts for new symptomatic cases, hospitalisation person days,critical condition person days and deaths for untimigated epidemic and compare the results with different combinations of intervention strategies in place aiming to:\n",
    "* Have a realistic estimate of the clinic capacity, PPE, ICU transfer and other supplies and logistical measures needed\n",
    "* Compare the potential efficacies of different interventions and prioritise the ones that are going to help contain the virus."
   ]
  },
  {
   "cell_type": "markdown",
   "metadata": {},
   "source": [
    "## 2. Unmitigated COVID-19 Epidemic Trajectory"
   ]
  },
  {
   "cell_type": "code",
   "execution_count": 3,
   "metadata": {
    "jupyter": {
     "source_hidden": true
    }
   },
   "outputs": [],
   "source": [
    "baseline=read_preprocess_file('./model_outcomes'+'/baseline_new.csv')"
   ]
  },
  {
   "cell_type": "code",
   "execution_count": 17,
   "metadata": {
    "jupyter": {
     "source_hidden": true
    }
   },
   "outputs": [
    {
     "data": {
      "text/html": [
       "<style  type=\"text/css\" >\n",
       "</style><table id=\"T_3f30233e_a02f_11ea_b318_acbc32839263\" ><caption>Colormaps, with a caption.</caption><thead>    <tr>        <th class=\"col_heading level0 col0\" >Outcome</th>        <th class=\"col_heading level0 col1\" >Peak Day IQR</th>        <th class=\"col_heading level0 col2\" >Peak Number IQR</th>    </tr></thead><tbody>\n",
       "                <tr>\n",
       "                                <td id=\"T_3f30233e_a02f_11ea_b318_acbc32839263row0_col0\" class=\"data row0 col0\" >Incidence of Symptomatic Cases</td>\n",
       "                        <td id=\"T_3f30233e_a02f_11ea_b318_acbc32839263row0_col1\" class=\"data row0 col1\" >40-78</td>\n",
       "                        <td id=\"T_3f30233e_a02f_11ea_b318_acbc32839263row0_col2\" class=\"data row0 col2\" >1202-2937</td>\n",
       "            </tr>\n",
       "            <tr>\n",
       "                                <td id=\"T_3f30233e_a02f_11ea_b318_acbc32839263row1_col0\" class=\"data row1 col0\" >Hospital Demand</td>\n",
       "                        <td id=\"T_3f30233e_a02f_11ea_b318_acbc32839263row1_col1\" class=\"data row1 col1\" >40-78</td>\n",
       "                        <td id=\"T_3f30233e_a02f_11ea_b318_acbc32839263row1_col2\" class=\"data row1 col2\" >41-86</td>\n",
       "            </tr>\n",
       "            <tr>\n",
       "                                <td id=\"T_3f30233e_a02f_11ea_b318_acbc32839263row2_col0\" class=\"data row2 col0\" >Critical Care Demand</td>\n",
       "                        <td id=\"T_3f30233e_a02f_11ea_b318_acbc32839263row2_col1\" class=\"data row2 col1\" >48-88</td>\n",
       "                        <td id=\"T_3f30233e_a02f_11ea_b318_acbc32839263row2_col2\" class=\"data row2 col2\" >8-13</td>\n",
       "            </tr>\n",
       "            <tr>\n",
       "                                <td id=\"T_3f30233e_a02f_11ea_b318_acbc32839263row3_col0\" class=\"data row3 col0\" >Incidence of Deaths</td>\n",
       "                        <td id=\"T_3f30233e_a02f_11ea_b318_acbc32839263row3_col1\" class=\"data row3 col1\" >42-80</td>\n",
       "                        <td id=\"T_3f30233e_a02f_11ea_b318_acbc32839263row3_col2\" class=\"data row3 col2\" >1-3</td>\n",
       "            </tr>\n",
       "    </tbody></table>"
      ],
      "text/plain": [
       "<pandas.io.formats.style.Styler at 0x127a19bd0>"
      ]
     },
     "execution_count": 17,
     "metadata": {},
     "output_type": "execute_result"
    }
   ],
   "source": [
    "incidence_table_all=incidence_all_table(baseline)\n",
    "incidence_table_all.style.set_caption('Colormaps, with a caption.').hide_index()"
   ]
  },
  {
   "cell_type": "code",
   "execution_count": 5,
   "metadata": {
    "jupyter": {
     "source_hidden": true
    }
   },
   "outputs": [
    {
     "data": {
      "text/html": [
       "<div>\n",
       "<style scoped>\n",
       "    .dataframe tbody tr th:only-of-type {\n",
       "        vertical-align: middle;\n",
       "    }\n",
       "\n",
       "    .dataframe tbody tr th {\n",
       "        vertical-align: top;\n",
       "    }\n",
       "\n",
       "    .dataframe thead th {\n",
       "        text-align: right;\n",
       "    }\n",
       "</style>\n",
       "<table border=\"1\" class=\"dataframe\">\n",
       "  <thead>\n",
       "    <tr style=\"text-align: right;\">\n",
       "      <th></th>\n",
       "      <th></th>\n",
       "      <th>Peak Day, IQR</th>\n",
       "      <th>Peak Number, IQR</th>\n",
       "    </tr>\n",
       "  </thead>\n",
       "  <tbody>\n",
       "    <tr>\n",
       "      <th rowspan=\"9\" valign=\"top\">Incident Cases</th>\n",
       "      <th>all ages</th>\n",
       "      <td>40-78</td>\n",
       "      <td>1202-2937</td>\n",
       "    </tr>\n",
       "    <tr>\n",
       "      <th>&lt;9 years</th>\n",
       "      <td>42-84</td>\n",
       "      <td>201-556</td>\n",
       "    </tr>\n",
       "    <tr>\n",
       "      <th>10-19 years</th>\n",
       "      <td>38-76</td>\n",
       "      <td>303-698</td>\n",
       "    </tr>\n",
       "    <tr>\n",
       "      <th>20-29 years</th>\n",
       "      <td>39-78</td>\n",
       "      <td>361-862</td>\n",
       "    </tr>\n",
       "    <tr>\n",
       "      <th>30-39 years</th>\n",
       "      <td>40-78</td>\n",
       "      <td>216-518</td>\n",
       "    </tr>\n",
       "    <tr>\n",
       "      <th>40-49 years</th>\n",
       "      <td>40-80</td>\n",
       "      <td>89-222</td>\n",
       "    </tr>\n",
       "    <tr>\n",
       "      <th>50-59 years</th>\n",
       "      <td>41-81</td>\n",
       "      <td>39-104</td>\n",
       "    </tr>\n",
       "    <tr>\n",
       "      <th>60-69 years</th>\n",
       "      <td>44-84</td>\n",
       "      <td>8-24</td>\n",
       "    </tr>\n",
       "    <tr>\n",
       "      <th>70+ years</th>\n",
       "      <td>44-84</td>\n",
       "      <td>2-6</td>\n",
       "    </tr>\n",
       "    <tr>\n",
       "      <th rowspan=\"9\" valign=\"top\">Hospital Demand</th>\n",
       "      <th>all ages</th>\n",
       "      <td>40-78</td>\n",
       "      <td>41-86</td>\n",
       "    </tr>\n",
       "    <tr>\n",
       "      <th>&lt;9 years</th>\n",
       "      <td>42-82</td>\n",
       "      <td>2-6</td>\n",
       "    </tr>\n",
       "    <tr>\n",
       "      <th>10-19 years</th>\n",
       "      <td>38-74</td>\n",
       "      <td>4-7</td>\n",
       "    </tr>\n",
       "    <tr>\n",
       "      <th>20-29 years</th>\n",
       "      <td>38-76</td>\n",
       "      <td>6-11</td>\n",
       "    </tr>\n",
       "    <tr>\n",
       "      <th>30-39 years</th>\n",
       "      <td>38-77</td>\n",
       "      <td>6-12</td>\n",
       "    </tr>\n",
       "    <tr>\n",
       "      <th>40-49 years</th>\n",
       "      <td>40-78</td>\n",
       "      <td>8-15</td>\n",
       "    </tr>\n",
       "    <tr>\n",
       "      <th>50-59 years</th>\n",
       "      <td>40-80</td>\n",
       "      <td>9-20</td>\n",
       "    </tr>\n",
       "    <tr>\n",
       "      <th>60-69 years</th>\n",
       "      <td>43-82</td>\n",
       "      <td>4-11</td>\n",
       "    </tr>\n",
       "    <tr>\n",
       "      <th>70+ years</th>\n",
       "      <td>43-82</td>\n",
       "      <td>2-5</td>\n",
       "    </tr>\n",
       "    <tr>\n",
       "      <th rowspan=\"9\" valign=\"top\">Critical Demand</th>\n",
       "      <th>all ages</th>\n",
       "      <td>48-88</td>\n",
       "      <td>8-13</td>\n",
       "    </tr>\n",
       "    <tr>\n",
       "      <th>&lt;9 years</th>\n",
       "      <td>50-94</td>\n",
       "      <td>0-1</td>\n",
       "    </tr>\n",
       "    <tr>\n",
       "      <th>10-19 years</th>\n",
       "      <td>43-82</td>\n",
       "      <td>1-1</td>\n",
       "    </tr>\n",
       "    <tr>\n",
       "      <th>20-29 years</th>\n",
       "      <td>45-85</td>\n",
       "      <td>1-2</td>\n",
       "    </tr>\n",
       "    <tr>\n",
       "      <th>30-39 years</th>\n",
       "      <td>46-86</td>\n",
       "      <td>1-2</td>\n",
       "    </tr>\n",
       "    <tr>\n",
       "      <th>40-49 years</th>\n",
       "      <td>47-87</td>\n",
       "      <td>1-2</td>\n",
       "    </tr>\n",
       "    <tr>\n",
       "      <th>50-59 years</th>\n",
       "      <td>48-90</td>\n",
       "      <td>2-3</td>\n",
       "    </tr>\n",
       "    <tr>\n",
       "      <th>60-69 years</th>\n",
       "      <td>52-96</td>\n",
       "      <td>1-2</td>\n",
       "    </tr>\n",
       "    <tr>\n",
       "      <th>70+ years</th>\n",
       "      <td>52-96</td>\n",
       "      <td>0-1</td>\n",
       "    </tr>\n",
       "  </tbody>\n",
       "</table>\n",
       "</div>"
      ],
      "text/plain": [
       "                            Peak Day, IQR Peak Number, IQR\n",
       "Incident Cases  all ages            40-78        1202-2937\n",
       "                <9 years            42-84          201-556\n",
       "                10-19 years         38-76          303-698\n",
       "                20-29 years         39-78          361-862\n",
       "                30-39 years         40-78          216-518\n",
       "                40-49 years         40-80           89-222\n",
       "                50-59 years         41-81           39-104\n",
       "                60-69 years         44-84             8-24\n",
       "                70+ years           44-84              2-6\n",
       "Hospital Demand all ages            40-78            41-86\n",
       "                <9 years            42-82              2-6\n",
       "                10-19 years         38-74              4-7\n",
       "                20-29 years         38-76             6-11\n",
       "                30-39 years         38-77             6-12\n",
       "                40-49 years         40-78             8-15\n",
       "                50-59 years         40-80             9-20\n",
       "                60-69 years         43-82             4-11\n",
       "                70+ years           43-82              2-5\n",
       "Critical Demand all ages            48-88             8-13\n",
       "                <9 years            50-94              0-1\n",
       "                10-19 years         43-82              1-1\n",
       "                20-29 years         45-85              1-2\n",
       "                30-39 years         46-86              1-2\n",
       "                40-49 years         47-87              1-2\n",
       "                50-59 years         48-90              2-3\n",
       "                60-69 years         52-96              1-2\n",
       "                70+ years           52-96              0-1"
      ]
     },
     "execution_count": 5,
     "metadata": {},
     "output_type": "execute_result"
    }
   ],
   "source": [
    "incidence_table_age=incidence_age_table(baseline)\n",
    "incidence_table_age"
   ]
  },
  {
   "cell_type": "code",
   "execution_count": 6,
   "metadata": {
    "jupyter": {
     "source_hidden": true
    }
   },
   "outputs": [
    {
     "data": {
      "text/html": [
       "<table border=\"1\" class=\"dataframe\">\n",
       "  <thead>\n",
       "    <tr style=\"text-align: right;\">\n",
       "      <th>Totals</th>\n",
       "      <th>Counts</th>\n",
       "    </tr>\n",
       "  </thead>\n",
       "  <tbody>\n",
       "    <tr>\n",
       "      <td>Symptomatic Cases</td>\n",
       "      <td>5777-7174</td>\n",
       "    </tr>\n",
       "    <tr>\n",
       "      <td>Hospital Person-Days</td>\n",
       "      <td>6213-29173</td>\n",
       "    </tr>\n",
       "    <tr>\n",
       "      <td>Critical Person-days</td>\n",
       "      <td>1835-7007</td>\n",
       "    </tr>\n",
       "    <tr>\n",
       "      <td>Deaths</td>\n",
       "      <td>50-70</td>\n",
       "    </tr>\n",
       "  </tbody>\n",
       "</table>"
      ],
      "text/plain": [
       "<IPython.core.display.HTML object>"
      ]
     },
     "execution_count": 6,
     "metadata": {},
     "output_type": "execute_result"
    }
   ],
   "source": [
    "comulative_table_all=cumulative_all_table(baseline)\n",
    "HTML(comulative_table_all.to_html(index=False))"
   ]
  },
  {
   "cell_type": "code",
   "execution_count": 7,
   "metadata": {
    "jupyter": {
     "source_hidden": true
    }
   },
   "outputs": [
    {
     "data": {
      "text/html": [
       "<div>\n",
       "<style scoped>\n",
       "    .dataframe tbody tr th:only-of-type {\n",
       "        vertical-align: middle;\n",
       "    }\n",
       "\n",
       "    .dataframe tbody tr th {\n",
       "        vertical-align: top;\n",
       "    }\n",
       "\n",
       "    .dataframe thead th {\n",
       "        text-align: right;\n",
       "    }\n",
       "</style>\n",
       "<table border=\"1\" class=\"dataframe\">\n",
       "  <thead>\n",
       "    <tr style=\"text-align: right;\">\n",
       "      <th></th>\n",
       "      <th></th>\n",
       "      <th>First month</th>\n",
       "      <th>First three months</th>\n",
       "      <th>First six months</th>\n",
       "    </tr>\n",
       "  </thead>\n",
       "  <tbody>\n",
       "    <tr>\n",
       "      <th rowspan=\"9\" valign=\"top\">Symptomatic Cases</th>\n",
       "      <th>all ages</th>\n",
       "      <td>23-1716</td>\n",
       "      <td>2991-7173</td>\n",
       "      <td>5772-7173</td>\n",
       "    </tr>\n",
       "    <tr>\n",
       "      <th>&lt;9 years</th>\n",
       "      <td>3-230</td>\n",
       "      <td>437-1471</td>\n",
       "      <td>1051-1471</td>\n",
       "    </tr>\n",
       "    <tr>\n",
       "      <th>10-19 years</th>\n",
       "      <td>4-276</td>\n",
       "      <td>445-804</td>\n",
       "      <td>716-804</td>\n",
       "    </tr>\n",
       "    <tr>\n",
       "      <th>20-29 years</th>\n",
       "      <td>7-496</td>\n",
       "      <td>850-1796</td>\n",
       "      <td>1539-1796</td>\n",
       "    </tr>\n",
       "    <tr>\n",
       "      <th>30-39 years</th>\n",
       "      <td>5-360</td>\n",
       "      <td>621-1330</td>\n",
       "      <td>1144-1330</td>\n",
       "    </tr>\n",
       "    <tr>\n",
       "      <th>40-49 years</th>\n",
       "      <td>3-199</td>\n",
       "      <td>351-853</td>\n",
       "      <td>686-853</td>\n",
       "    </tr>\n",
       "    <tr>\n",
       "      <th>50-59 years</th>\n",
       "      <td>1-112</td>\n",
       "      <td>203-574</td>\n",
       "      <td>428-574</td>\n",
       "    </tr>\n",
       "    <tr>\n",
       "      <th>60-69 years</th>\n",
       "      <td>0-32</td>\n",
       "      <td>62-262</td>\n",
       "      <td>157-262</td>\n",
       "    </tr>\n",
       "    <tr>\n",
       "      <th>70+ years</th>\n",
       "      <td>0-10</td>\n",
       "      <td>20-83</td>\n",
       "      <td>50-83</td>\n",
       "    </tr>\n",
       "    <tr>\n",
       "      <th rowspan=\"9\" valign=\"top\">Hospital Person-Days</th>\n",
       "      <th>all ages</th>\n",
       "      <td>16-519</td>\n",
       "      <td>2976-25858</td>\n",
       "      <td>6031-29171</td>\n",
       "    </tr>\n",
       "    <tr>\n",
       "      <th>&lt;9 years</th>\n",
       "      <td>1-25</td>\n",
       "      <td>179-1575</td>\n",
       "      <td>367-1901</td>\n",
       "    </tr>\n",
       "    <tr>\n",
       "      <th>10-19 years</th>\n",
       "      <td>2-57</td>\n",
       "      <td>266-2183</td>\n",
       "      <td>558-2371</td>\n",
       "    </tr>\n",
       "    <tr>\n",
       "      <th>20-29 years</th>\n",
       "      <td>2-75</td>\n",
       "      <td>380-3278</td>\n",
       "      <td>813-3632</td>\n",
       "    </tr>\n",
       "    <tr>\n",
       "      <th>30-39 years</th>\n",
       "      <td>3-83</td>\n",
       "      <td>423-3674</td>\n",
       "      <td>912-4085</td>\n",
       "    </tr>\n",
       "    <tr>\n",
       "      <th>40-49 years</th>\n",
       "      <td>3-97</td>\n",
       "      <td>528-4659</td>\n",
       "      <td>1088-5212</td>\n",
       "    </tr>\n",
       "    <tr>\n",
       "      <th>50-59 years</th>\n",
       "      <td>3-112</td>\n",
       "      <td>678-5960</td>\n",
       "      <td>1382-6841</td>\n",
       "    </tr>\n",
       "    <tr>\n",
       "      <th>60-69 years</th>\n",
       "      <td>1-41</td>\n",
       "      <td>339-2852</td>\n",
       "      <td>659-3686</td>\n",
       "    </tr>\n",
       "    <tr>\n",
       "      <th>70+ years</th>\n",
       "      <td>1-20</td>\n",
       "      <td>164-1366</td>\n",
       "      <td>316-1763</td>\n",
       "    </tr>\n",
       "    <tr>\n",
       "      <th rowspan=\"9\" valign=\"top\">Critical Person-days</th>\n",
       "      <th>all ages</th>\n",
       "      <td>3-54</td>\n",
       "      <td>614-4726</td>\n",
       "      <td>1803-7004</td>\n",
       "    </tr>\n",
       "    <tr>\n",
       "      <th>&lt;9 years</th>\n",
       "      <td>0-3</td>\n",
       "      <td>36-284</td>\n",
       "      <td>108-467</td>\n",
       "    </tr>\n",
       "    <tr>\n",
       "      <th>10-19 years</th>\n",
       "      <td>0-6</td>\n",
       "      <td>54-416</td>\n",
       "      <td>135-546</td>\n",
       "    </tr>\n",
       "    <tr>\n",
       "      <th>20-29 years</th>\n",
       "      <td>0-8</td>\n",
       "      <td>78-614</td>\n",
       "      <td>210-839</td>\n",
       "    </tr>\n",
       "    <tr>\n",
       "      <th>30-39 years</th>\n",
       "      <td>0-9</td>\n",
       "      <td>87-687</td>\n",
       "      <td>236-946</td>\n",
       "    </tr>\n",
       "    <tr>\n",
       "      <th>40-49 years</th>\n",
       "      <td>0-10</td>\n",
       "      <td>108-864</td>\n",
       "      <td>315-1223</td>\n",
       "    </tr>\n",
       "    <tr>\n",
       "      <th>50-59 years</th>\n",
       "      <td>1-12</td>\n",
       "      <td>139-1079</td>\n",
       "      <td>416-1648</td>\n",
       "    </tr>\n",
       "    <tr>\n",
       "      <th>60-69 years</th>\n",
       "      <td>0-4</td>\n",
       "      <td>64-539</td>\n",
       "      <td>186-858</td>\n",
       "    </tr>\n",
       "    <tr>\n",
       "      <th>70+ years</th>\n",
       "      <td>0-2</td>\n",
       "      <td>31-258</td>\n",
       "      <td>89-410</td>\n",
       "    </tr>\n",
       "    <tr>\n",
       "      <th rowspan=\"9\" valign=\"top\">Deaths</th>\n",
       "      <th>all ages</th>\n",
       "      <td>0-0</td>\n",
       "      <td>38-63</td>\n",
       "      <td>59-68</td>\n",
       "    </tr>\n",
       "    <tr>\n",
       "      <th>&lt;9 years</th>\n",
       "      <td>0-0</td>\n",
       "      <td>2-4</td>\n",
       "      <td>4-4</td>\n",
       "    </tr>\n",
       "    <tr>\n",
       "      <th>10-19 years</th>\n",
       "      <td>0-0</td>\n",
       "      <td>4-5</td>\n",
       "      <td>5-5</td>\n",
       "    </tr>\n",
       "    <tr>\n",
       "      <th>20-29 years</th>\n",
       "      <td>0-0</td>\n",
       "      <td>5-8</td>\n",
       "      <td>8-8</td>\n",
       "    </tr>\n",
       "    <tr>\n",
       "      <th>30-39 years</th>\n",
       "      <td>0-0</td>\n",
       "      <td>6-9</td>\n",
       "      <td>9-9</td>\n",
       "    </tr>\n",
       "    <tr>\n",
       "      <th>40-49 years</th>\n",
       "      <td>0-0</td>\n",
       "      <td>7-11</td>\n",
       "      <td>11-12</td>\n",
       "    </tr>\n",
       "    <tr>\n",
       "      <th>50-59 years</th>\n",
       "      <td>0-0</td>\n",
       "      <td>9-15</td>\n",
       "      <td>14-16</td>\n",
       "    </tr>\n",
       "    <tr>\n",
       "      <th>60-69 years</th>\n",
       "      <td>0-0</td>\n",
       "      <td>4-8</td>\n",
       "      <td>7-9</td>\n",
       "    </tr>\n",
       "    <tr>\n",
       "      <th>70+ years</th>\n",
       "      <td>0-0</td>\n",
       "      <td>2-4</td>\n",
       "      <td>3-4</td>\n",
       "    </tr>\n",
       "  </tbody>\n",
       "</table>\n",
       "</div>"
      ],
      "text/plain": [
       "                                 First month First three months  \\\n",
       "Symptomatic Cases    all ages        23-1716          2991-7173   \n",
       "                     <9 years          3-230           437-1471   \n",
       "                     10-19 years       4-276            445-804   \n",
       "                     20-29 years       7-496           850-1796   \n",
       "                     30-39 years       5-360           621-1330   \n",
       "                     40-49 years       3-199            351-853   \n",
       "                     50-59 years       1-112            203-574   \n",
       "                     60-69 years        0-32             62-262   \n",
       "                     70+ years          0-10              20-83   \n",
       "Hospital Person-Days all ages         16-519         2976-25858   \n",
       "                     <9 years           1-25           179-1575   \n",
       "                     10-19 years        2-57           266-2183   \n",
       "                     20-29 years        2-75           380-3278   \n",
       "                     30-39 years        3-83           423-3674   \n",
       "                     40-49 years        3-97           528-4659   \n",
       "                     50-59 years       3-112           678-5960   \n",
       "                     60-69 years        1-41           339-2852   \n",
       "                     70+ years          1-20           164-1366   \n",
       "Critical Person-days all ages           3-54           614-4726   \n",
       "                     <9 years            0-3             36-284   \n",
       "                     10-19 years         0-6             54-416   \n",
       "                     20-29 years         0-8             78-614   \n",
       "                     30-39 years         0-9             87-687   \n",
       "                     40-49 years        0-10            108-864   \n",
       "                     50-59 years        1-12           139-1079   \n",
       "                     60-69 years         0-4             64-539   \n",
       "                     70+ years           0-2             31-258   \n",
       "Deaths               all ages            0-0              38-63   \n",
       "                     <9 years            0-0                2-4   \n",
       "                     10-19 years         0-0                4-5   \n",
       "                     20-29 years         0-0                5-8   \n",
       "                     30-39 years         0-0                6-9   \n",
       "                     40-49 years         0-0               7-11   \n",
       "                     50-59 years         0-0               9-15   \n",
       "                     60-69 years         0-0                4-8   \n",
       "                     70+ years           0-0                2-4   \n",
       "\n",
       "                                 First six months  \n",
       "Symptomatic Cases    all ages           5772-7173  \n",
       "                     <9 years           1051-1471  \n",
       "                     10-19 years          716-804  \n",
       "                     20-29 years        1539-1796  \n",
       "                     30-39 years        1144-1330  \n",
       "                     40-49 years          686-853  \n",
       "                     50-59 years          428-574  \n",
       "                     60-69 years          157-262  \n",
       "                     70+ years              50-83  \n",
       "Hospital Person-Days all ages          6031-29171  \n",
       "                     <9 years            367-1901  \n",
       "                     10-19 years         558-2371  \n",
       "                     20-29 years         813-3632  \n",
       "                     30-39 years         912-4085  \n",
       "                     40-49 years        1088-5212  \n",
       "                     50-59 years        1382-6841  \n",
       "                     60-69 years         659-3686  \n",
       "                     70+ years           316-1763  \n",
       "Critical Person-days all ages           1803-7004  \n",
       "                     <9 years             108-467  \n",
       "                     10-19 years          135-546  \n",
       "                     20-29 years          210-839  \n",
       "                     30-39 years          236-946  \n",
       "                     40-49 years         315-1223  \n",
       "                     50-59 years         416-1648  \n",
       "                     60-69 years          186-858  \n",
       "                     70+ years             89-410  \n",
       "Deaths               all ages               59-68  \n",
       "                     <9 years                 4-4  \n",
       "                     10-19 years              5-5  \n",
       "                     20-29 years              8-8  \n",
       "                     30-39 years              9-9  \n",
       "                     40-49 years            11-12  \n",
       "                     50-59 years            14-16  \n",
       "                     60-69 years              7-9  \n",
       "                     70+ years                3-4  "
      ]
     },
     "execution_count": 7,
     "metadata": {},
     "output_type": "execute_result"
    }
   ],
   "source": [
    "count_table_age=cumulative_age_table(baseline)\n",
    "count_table_age"
   ]
  },
  {
   "cell_type": "code",
   "execution_count": 20,
   "metadata": {
    "jupyter": {
     "source_hidden": true
    }
   },
   "outputs": [
    {
     "data": {
      "application/vnd.jupyter.widget-view+json": {
       "model_id": "e8461159d78b44148187b10c8283c95e",
       "version_major": 2,
       "version_minor": 0
      },
      "text/plain": [
       "VBox(children=(Label(value='Plot the do nothing scenario in four different categories split by age groups'), i…"
      ]
     },
     "metadata": {},
     "output_type": "display_data"
    }
   ],
   "source": [
    "plot_by_age_interactive(plot_by_age,baseline)"
   ]
  },
  {
   "cell_type": "code",
   "execution_count": null,
   "metadata": {
    "jupyter": {
     "source_hidden": true
    }
   },
   "outputs": [],
   "source": []
  }
 ],
 "metadata": {
  "kernelspec": {
   "display_name": "Python 3",
   "language": "python",
   "name": "python3"
  },
  "language_info": {
   "codemirror_mode": {
    "name": "ipython",
    "version": 3
   },
   "file_extension": ".py",
   "mimetype": "text/x-python",
   "name": "python",
   "nbconvert_exporter": "python",
   "pygments_lexer": "ipython3",
   "version": "3.7.6"
  },
  "widgets": {
   "application/vnd.jupyter.widget-state+json": {
    "state": {
     "3107075d7b4c49e2b3ac3e6da4cffc5b": {
      "model_module": "@jupyter-widgets/base",
      "model_module_version": "1.2.0",
      "model_name": "LayoutModel",
      "state": {}
     },
     "3c5e83ceaf4546aeb13fc30bbc0c5d4c": {
      "model_module": "@jupyter-widgets/controls",
      "model_module_version": "1.5.0",
      "model_name": "DescriptionStyleModel",
      "state": {
       "description_width": ""
      }
     },
     "400de9281c3b475198308d9648d07b54": {
      "model_module": "@jupyter-widgets/controls",
      "model_module_version": "1.5.0",
      "model_name": "DropdownModel",
      "state": {
       "_options_labels": [
        "Infected (symptomatic)",
        "Hospitalised",
        "Critical",
        "Deaths"
       ],
       "description": "Category:",
       "index": 0,
       "layout": "IPY_MODEL_6a3a36218dd54f9d93b674a1b31dc909",
       "style": "IPY_MODEL_a622789cdbfe4ffbbba7eb7bcda2971b"
      }
     },
     "4affd0aff125474c9b6ab348b02960b5": {
      "model_module": "@jupyter-widgets/controls",
      "model_module_version": "1.5.0",
      "model_name": "LabelModel",
      "state": {
       "layout": "IPY_MODEL_653b375773a4479b90d9ff730fd30e18",
       "style": "IPY_MODEL_7b441d5d0f7d473587ae26002e50bd7f",
       "value": "Plot the do nothing scenario in four different categories split by age groups"
      }
     },
     "6164e655242442cabd76d7a6df500699": {
      "model_module": "@jupyter-widgets/controls",
      "model_module_version": "1.5.0",
      "model_name": "VBoxModel",
      "state": {
       "_dom_classes": [
        "widget-interact"
       ],
       "children": [
        "IPY_MODEL_400de9281c3b475198308d9648d07b54",
        "IPY_MODEL_cfc4cc1bbf8141a88fc133f60c93efc5"
       ],
       "layout": "IPY_MODEL_6602b35058944c5fa378c9b30229056e"
      }
     },
     "653b375773a4479b90d9ff730fd30e18": {
      "model_module": "@jupyter-widgets/base",
      "model_module_version": "1.2.0",
      "model_name": "LayoutModel",
      "state": {}
     },
     "6602b35058944c5fa378c9b30229056e": {
      "model_module": "@jupyter-widgets/base",
      "model_module_version": "1.2.0",
      "model_name": "LayoutModel",
      "state": {}
     },
     "6a3a36218dd54f9d93b674a1b31dc909": {
      "model_module": "@jupyter-widgets/base",
      "model_module_version": "1.2.0",
      "model_name": "LayoutModel",
      "state": {}
     },
     "6bbab6f6c17344099dfcda6bd08d6433": {
      "model_module": "@jupyter-widgets/base",
      "model_module_version": "1.2.0",
      "model_name": "LayoutModel",
      "state": {}
     },
     "7262a6639f7b47328cac52523bdbe9e8": {
      "model_module": "@jupyter-widgets/output",
      "model_module_version": "1.0.0",
      "model_name": "OutputModel",
      "state": {
       "layout": "IPY_MODEL_6bbab6f6c17344099dfcda6bd08d6433",
       "outputs": [
        {
         "data": {
          "image/png": "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\n",
          "text/plain": "<Figure size 1440x360 with 9 Axes>"
         },
         "metadata": {},
         "output_type": "display_data"
        }
       ]
      }
     },
     "7b441d5d0f7d473587ae26002e50bd7f": {
      "model_module": "@jupyter-widgets/controls",
      "model_module_version": "1.5.0",
      "model_name": "DescriptionStyleModel",
      "state": {
       "description_width": ""
      }
     },
     "90ae4d13c843450f8f0dc847e481be90": {
      "model_module": "@jupyter-widgets/base",
      "model_module_version": "1.2.0",
      "model_name": "LayoutModel",
      "state": {}
     },
     "90b541c13e3644b4b90ffb78b00a8e6d": {
      "model_module": "@jupyter-widgets/base",
      "model_module_version": "1.2.0",
      "model_name": "LayoutModel",
      "state": {
       "align_items": "center",
       "border": "2px solid grey",
       "justify_content": "space-around",
       "width": "100%"
      }
     },
     "9815812c1a2c477dac4c2ac7f177859c": {
      "model_module": "@jupyter-widgets/base",
      "model_module_version": "1.2.0",
      "model_name": "LayoutModel",
      "state": {
       "align_items": "center",
       "border": "2px solid grey",
       "justify_content": "space-around",
       "width": "100%"
      }
     },
     "985b854bd9074dfaa131254db3fe235e": {
      "model_module": "@jupyter-widgets/controls",
      "model_module_version": "1.5.0",
      "model_name": "DescriptionStyleModel",
      "state": {
       "description_width": ""
      }
     },
     "9ba0e3d73e904ce1beaf7d129577ab78": {
      "model_module": "@jupyter-widgets/controls",
      "model_module_version": "1.5.0",
      "model_name": "LabelModel",
      "state": {
       "layout": "IPY_MODEL_da8943a55bd34a0c8b04b9fd2521d4e4",
       "style": "IPY_MODEL_985b854bd9074dfaa131254db3fe235e",
       "value": "Plot the do nothing scenario in four different categories split by age groups"
      }
     },
     "a622789cdbfe4ffbbba7eb7bcda2971b": {
      "model_module": "@jupyter-widgets/controls",
      "model_module_version": "1.5.0",
      "model_name": "DescriptionStyleModel",
      "state": {
       "description_width": ""
      }
     },
     "ad15fba7a7e14fe68946a49ecb94f103": {
      "model_module": "@jupyter-widgets/base",
      "model_module_version": "1.2.0",
      "model_name": "LayoutModel",
      "state": {}
     },
     "af1fd0b5d0d84ac68c6b21523307e365": {
      "model_module": "@jupyter-widgets/controls",
      "model_module_version": "1.5.0",
      "model_name": "VBoxModel",
      "state": {
       "children": [
        "IPY_MODEL_9ba0e3d73e904ce1beaf7d129577ab78",
        "IPY_MODEL_6164e655242442cabd76d7a6df500699"
       ],
       "layout": "IPY_MODEL_90b541c13e3644b4b90ffb78b00a8e6d"
      }
     },
     "cfc4cc1bbf8141a88fc133f60c93efc5": {
      "model_module": "@jupyter-widgets/output",
      "model_module_version": "1.0.0",
      "model_name": "OutputModel",
      "state": {
       "layout": "IPY_MODEL_3107075d7b4c49e2b3ac3e6da4cffc5b",
       "outputs": [
        {
         "data": {
          "image/png": "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\n",
          "text/plain": "<Figure size 1440x360 with 9 Axes>"
         },
         "metadata": {},
         "output_type": "display_data"
        }
       ]
      }
     },
     "da8943a55bd34a0c8b04b9fd2521d4e4": {
      "model_module": "@jupyter-widgets/base",
      "model_module_version": "1.2.0",
      "model_name": "LayoutModel",
      "state": {}
     },
     "e8461159d78b44148187b10c8283c95e": {
      "model_module": "@jupyter-widgets/controls",
      "model_module_version": "1.5.0",
      "model_name": "VBoxModel",
      "state": {
       "children": [
        "IPY_MODEL_4affd0aff125474c9b6ab348b02960b5",
        "IPY_MODEL_f247072d0f844f53b71321876da95d43"
       ],
       "layout": "IPY_MODEL_9815812c1a2c477dac4c2ac7f177859c"
      }
     },
     "f247072d0f844f53b71321876da95d43": {
      "model_module": "@jupyter-widgets/controls",
      "model_module_version": "1.5.0",
      "model_name": "VBoxModel",
      "state": {
       "_dom_classes": [
        "widget-interact"
       ],
       "children": [
        "IPY_MODEL_f8fedc03478d413eaa65cd64140b36c3",
        "IPY_MODEL_7262a6639f7b47328cac52523bdbe9e8"
       ],
       "layout": "IPY_MODEL_90ae4d13c843450f8f0dc847e481be90"
      }
     },
     "f8fedc03478d413eaa65cd64140b36c3": {
      "model_module": "@jupyter-widgets/controls",
      "model_module_version": "1.5.0",
      "model_name": "DropdownModel",
      "state": {
       "_options_labels": [
        "Infected (symptomatic)",
        "Hospitalised",
        "Critical",
        "Deaths"
       ],
       "description": "Category:",
       "index": 0,
       "layout": "IPY_MODEL_ad15fba7a7e14fe68946a49ecb94f103",
       "style": "IPY_MODEL_3c5e83ceaf4546aeb13fc30bbc0c5d4c"
      }
     }
    },
    "version_major": 2,
    "version_minor": 0
   }
  }
 },
 "nbformat": 4,
 "nbformat_minor": 4
}
