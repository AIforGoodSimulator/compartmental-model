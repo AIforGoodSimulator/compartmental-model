{
 "cells": [
  {
   "cell_type": "code",
   "execution_count": 1,
   "metadata": {},
   "outputs": [],
   "source": [
    "from IPython.display import HTML, display\n",
    "from preprocess import read_preprocess_file\n",
    "from tables import *\n",
    "from plots import *\n",
    "#load in the unmitigated simulation\n",
    "baseline=read_preprocess_file('./model_outcomes'+'/new_baseline.csv')"
   ]
  },
  {
   "cell_type": "markdown",
   "metadata": {},
   "source": [
    "#### Disclaimer: This report is a draft report from AI for Good Simulator on the COVID-19 situation in Moria camp, Lesbos, Greece. The insights are preliminary and they are subject to future model fixes and improvements."
   ]
  },
  {
   "cell_type": "markdown",
   "metadata": {},
   "source": [
    "# AI for Good Simulator Model Report for Moria Camp"
   ]
  },
  {
   "cell_type": "markdown",
   "metadata": {},
   "source": [
    "## 0. Glossary \n",
    "* symptomatic cases\n",
    "* hospitalisation person days\n",
    "* critical condition person days\n",
    "* deaths\n",
    "* basic reproduction number"
   ]
  },
  {
   "cell_type": "markdown",
   "metadata": {},
   "source": [
    "## 1. Overview"
   ]
  },
  {
   "cell_type": "markdown",
   "metadata": {},
   "source": [
    "This report provides simulation-based estimates for COVID-19 epidemic scenarios for the Moria camp on Lesbos, an island of Greece. This is one of the largest refugee camps in Europe. There are estimated around 20,000 people currently living in the camp. We estimated peak counts and timing as well as cumulative counts for new symptomatic cases, hospitalisation person days,critical condition person days and deaths for untimigated epidemic and compare the results with different combinations of intervention strategies in place aiming to:\n",
    "* Have a realistic estimate of the clinic capacity, PPE, ICU transfer and other supplies and logistical measures needed\n",
    "* Compare the potential efficacies of different interventions and prioritise the ones that are going to help contain the virus."
   ]
  },
  {
   "cell_type": "markdown",
   "metadata": {},
   "source": [
    "## 2. Unmitigated COVID-19 Epidemic Trajectory"
   ]
  },
  {
   "cell_type": "markdown",
   "metadata": {},
   "source": [
    "Here we assume the epidemic spreads through the camp without any non-pharmaceutical intervention in place and the peak incidence (number of cases), the timing and the cumulative case counts are all presented by interquatertile range values (25%-75% quatiles) and they respectively represent the optimisitic and pessimistic estimate of the spread of the virus given uncertaintiy in paramters estimated from epidimiological studies."
   ]
  },
  {
   "cell_type": "code",
   "execution_count": 40,
   "metadata": {},
   "outputs": [
    {
     "data": {
      "text/html": [
       "<style  type=\"text/css\" >\n",
       "    #T_42094e60_a209_11ea_a321_acbc32839263 th {\n",
       "          font-size: 15px;\n",
       "          text-align: center;\n",
       "          font-weight: bold;\n",
       "          color: #6d6d6d;\n",
       "          background-color: #f7f7f9;\n",
       "    }    #T_42094e60_a209_11ea_a321_acbc32839263 td {\n",
       "          font-size: 15px;\n",
       "          text-align: center;\n",
       "    }    #T_42094e60_a209_11ea_a321_acbc32839263 caption {\n",
       "          font-size: 15px;\n",
       "          text-align: center;\n",
       "    }</style><table id=\"T_42094e60_a209_11ea_a321_acbc32839263\" ><caption>Table 1. peak day and peak number for incidences of different disease states of COVID19</caption><thead>    <tr>        <th class=\"col_heading level0 col0\" >Outcome</th>        <th class=\"col_heading level0 col1\" >Peak Day IQR</th>        <th class=\"col_heading level0 col2\" >Peak Number IQR</th>    </tr></thead><tbody>\n",
       "                <tr>\n",
       "                                <td id=\"T_42094e60_a209_11ea_a321_acbc32839263row0_col0\" class=\"data row0 col0\" >Incidence of Symptomatic Cases</td>\n",
       "                        <td id=\"T_42094e60_a209_11ea_a321_acbc32839263row0_col1\" class=\"data row0 col1\" >45-68</td>\n",
       "                        <td id=\"T_42094e60_a209_11ea_a321_acbc32839263row0_col2\" class=\"data row0 col2\" >1410-2255</td>\n",
       "            </tr>\n",
       "            <tr>\n",
       "                                <td id=\"T_42094e60_a209_11ea_a321_acbc32839263row1_col0\" class=\"data row1 col0\" >Hospitalisation Demand</td>\n",
       "                        <td id=\"T_42094e60_a209_11ea_a321_acbc32839263row1_col1\" class=\"data row1 col1\" >52-76</td>\n",
       "                        <td id=\"T_42094e60_a209_11ea_a321_acbc32839263row1_col2\" class=\"data row1 col2\" >45-67</td>\n",
       "            </tr>\n",
       "            <tr>\n",
       "                                <td id=\"T_42094e60_a209_11ea_a321_acbc32839263row2_col0\" class=\"data row2 col0\" >Critical Care Demand</td>\n",
       "                        <td id=\"T_42094e60_a209_11ea_a321_acbc32839263row2_col1\" class=\"data row2 col1\" >54-79</td>\n",
       "                        <td id=\"T_42094e60_a209_11ea_a321_acbc32839263row2_col2\" class=\"data row2 col2\" >7-10</td>\n",
       "            </tr>\n",
       "            <tr>\n",
       "                                <td id=\"T_42094e60_a209_11ea_a321_acbc32839263row3_col0\" class=\"data row3 col0\" >Incidence of Deaths</td>\n",
       "                        <td id=\"T_42094e60_a209_11ea_a321_acbc32839263row3_col1\" class=\"data row3 col1\" >55-79</td>\n",
       "                        <td id=\"T_42094e60_a209_11ea_a321_acbc32839263row3_col2\" class=\"data row3 col2\" >2-2</td>\n",
       "            </tr>\n",
       "    </tbody></table>"
      ],
      "text/plain": [
       "<pandas.io.formats.style.Styler at 0x123031c50>"
      ]
     },
     "execution_count": 40,
     "metadata": {},
     "output_type": "execute_result"
    }
   ],
   "source": [
    "incidence_table_all=incidence_all_table(baseline);incidence_table_all"
   ]
  },
  {
   "cell_type": "markdown",
   "metadata": {},
   "source": [
    "In this simulation we explore the basic reproduction number from 1 to 7 which covers from estimates in European and Asian settings to nearly what is estimated from a high population density location like a cruise ship. \n",
    "\n",
    "The peak number of infections is likely to be in the thousands which could easily overwhelm the care capacity of the normal clinics which occur one and half month after the virus first appears in the camp but the optimistic information is that according to hospitalisation,critical condition and incidence of death estimated based on the best available information currently, the peak hospitalisation demand will be 40-70 a day and the death estimate is based on the fact the patients require critical care will receive appropriate treatment from the 6 ICU beds that are currently available on Lesbos. The incidence of death could be the same as the peak critical care demand if oxygen therapy etc. won't be available for the refugee camp residents."
   ]
  },
  {
   "cell_type": "code",
   "execution_count": null,
   "metadata": {},
   "outputs": [],
   "source": [
    "incidence_table_age=incidence_age_table(baseline);incidence_table_age"
   ]
  },
  {
   "cell_type": "markdown",
   "metadata": {},
   "source": [
    "In table 2 the age breakdown for the peak incidence shows that during the peak infection, residents aged below 40 will comprise of more than 85% of the symptomatic infections while more than half of the people require hosptialisation on any given day will be above the age of 40. Noted that these estimated all point towards a month and half after the virus takes hold in the camp, giving local residents a period of time to react and try to curb the spread of the virus. Noted that the virus could be present in the camp without being noticed until the first death occurance which is projected to be one month after the virus arrives at the camp. "
   ]
  },
  {
   "cell_type": "code",
   "execution_count": null,
   "metadata": {},
   "outputs": [],
   "source": [
    "comulative_table_all=cumulative_all_table(baseline);comulative_table_all"
   ]
  },
  {
   "cell_type": "markdown",
   "metadata": {},
   "source": [
    "Looking at the cumulative counts in the course of the simulation spanning 200 days since the arrival of the virus, more than one third of the camp residents are expected to be symptomatically infected by the virus and the total hospital person days will be over 1750 person days which places huge demand on the hospital. This can be translated into projected medical costs or time required if the medical cost and time taken is known for treating one patient for a day."
   ]
  },
  {
   "cell_type": "code",
   "execution_count": 3,
   "metadata": {},
   "outputs": [
    {
     "data": {
      "text/html": [
       "<style  type=\"text/css\" >\n",
       "    #T_f9bf31f8_a1fc_11ea_a2a4_acbc32839263 th {\n",
       "          font-size: 15px;\n",
       "    }    #T_f9bf31f8_a1fc_11ea_a2a4_acbc32839263 td {\n",
       "          font-size: 15px;\n",
       "          text-align: center;\n",
       "    }    #T_f9bf31f8_a1fc_11ea_a2a4_acbc32839263 caption {\n",
       "          font-size: 15px;\n",
       "          text-align: center;\n",
       "    }</style><table id=\"T_f9bf31f8_a1fc_11ea_a2a4_acbc32839263\" ><caption>Table 4. Cumulative case counts of different disease states of COVID19 breakdown by age</caption><thead>    <tr>        <th class=\"blank\" ></th>        <th class=\"blank level0\" ></th>        <th class=\"col_heading level0 col0\" >First month</th>        <th class=\"col_heading level0 col1\" >First three months</th>        <th class=\"col_heading level0 col2\" >First six months</th>    </tr></thead><tbody>\n",
       "                <tr>\n",
       "                        <th id=\"T_f9bf31f8_a1fc_11ea_a2a4_acbc32839263level0_row0\" class=\"row_heading level0 row0\" rowspan=9>Symptomatic Cases</th>\n",
       "                        <th id=\"T_f9bf31f8_a1fc_11ea_a2a4_acbc32839263level1_row0\" class=\"row_heading level1 row0\" >all ages</th>\n",
       "                        <td id=\"T_f9bf31f8_a1fc_11ea_a2a4_acbc32839263row0_col0\" class=\"data row0 col0\" >82-918</td>\n",
       "                        <td id=\"T_f9bf31f8_a1fc_11ea_a2a4_acbc32839263row0_col1\" class=\"data row0 col1\" >6216-7070</td>\n",
       "                        <td id=\"T_f9bf31f8_a1fc_11ea_a2a4_acbc32839263row0_col2\" class=\"data row0 col2\" >6450-7079</td>\n",
       "            </tr>\n",
       "            <tr>\n",
       "                                <th id=\"T_f9bf31f8_a1fc_11ea_a2a4_acbc32839263level1_row1\" class=\"row_heading level1 row1\" ><9 years</th>\n",
       "                        <td id=\"T_f9bf31f8_a1fc_11ea_a2a4_acbc32839263row1_col0\" class=\"data row1 col0\" >10-119</td>\n",
       "                        <td id=\"T_f9bf31f8_a1fc_11ea_a2a4_acbc32839263row1_col1\" class=\"data row1 col1\" >1158-1436</td>\n",
       "                        <td id=\"T_f9bf31f8_a1fc_11ea_a2a4_acbc32839263row1_col2\" class=\"data row1 col2\" >1241-1439</td>\n",
       "            </tr>\n",
       "            <tr>\n",
       "                                <th id=\"T_f9bf31f8_a1fc_11ea_a2a4_acbc32839263level1_row2\" class=\"row_heading level1 row2\" >10-19 years</th>\n",
       "                        <td id=\"T_f9bf31f8_a1fc_11ea_a2a4_acbc32839263row2_col0\" class=\"data row2 col0\" >14-152</td>\n",
       "                        <td id=\"T_f9bf31f8_a1fc_11ea_a2a4_acbc32839263row2_col1\" class=\"data row2 col1\" >753-800</td>\n",
       "                        <td id=\"T_f9bf31f8_a1fc_11ea_a2a4_acbc32839263row2_col2\" class=\"data row2 col2\" >765-800</td>\n",
       "            </tr>\n",
       "            <tr>\n",
       "                                <th id=\"T_f9bf31f8_a1fc_11ea_a2a4_acbc32839263level1_row3\" class=\"row_heading level1 row3\" >20-29 years</th>\n",
       "                        <td id=\"T_f9bf31f8_a1fc_11ea_a2a4_acbc32839263row3_col0\" class=\"data row3 col0\" >24-267</td>\n",
       "                        <td id=\"T_f9bf31f8_a1fc_11ea_a2a4_acbc32839263row3_col1\" class=\"data row3 col1\" >1637-1782</td>\n",
       "                        <td id=\"T_f9bf31f8_a1fc_11ea_a2a4_acbc32839263row3_col2\" class=\"data row3 col2\" >1677-1783</td>\n",
       "            </tr>\n",
       "            <tr>\n",
       "                                <th id=\"T_f9bf31f8_a1fc_11ea_a2a4_acbc32839263level1_row4\" class=\"row_heading level1 row4\" >30-39 years</th>\n",
       "                        <td id=\"T_f9bf31f8_a1fc_11ea_a2a4_acbc32839263row4_col0\" class=\"data row4 col0\" >17-193</td>\n",
       "                        <td id=\"T_f9bf31f8_a1fc_11ea_a2a4_acbc32839263row4_col1\" class=\"data row4 col1\" >1214-1321</td>\n",
       "                        <td id=\"T_f9bf31f8_a1fc_11ea_a2a4_acbc32839263row4_col2\" class=\"data row4 col2\" >1246-1322</td>\n",
       "            </tr>\n",
       "            <tr>\n",
       "                                <th id=\"T_f9bf31f8_a1fc_11ea_a2a4_acbc32839263level1_row5\" class=\"row_heading level1 row5\" >40-49 years</th>\n",
       "                        <td id=\"T_f9bf31f8_a1fc_11ea_a2a4_acbc32839263row5_col0\" class=\"data row5 col0\" >9-106</td>\n",
       "                        <td id=\"T_f9bf31f8_a1fc_11ea_a2a4_acbc32839263row5_col1\" class=\"data row5 col1\" >743-842</td>\n",
       "                        <td id=\"T_f9bf31f8_a1fc_11ea_a2a4_acbc32839263row5_col2\" class=\"data row5 col2\" >769-843</td>\n",
       "            </tr>\n",
       "            <tr>\n",
       "                                <th id=\"T_f9bf31f8_a1fc_11ea_a2a4_acbc32839263level1_row6\" class=\"row_heading level1 row6\" >50-59 years</th>\n",
       "                        <td id=\"T_f9bf31f8_a1fc_11ea_a2a4_acbc32839263row6_col0\" class=\"data row6 col0\" >5-59</td>\n",
       "                        <td id=\"T_f9bf31f8_a1fc_11ea_a2a4_acbc32839263row6_col1\" class=\"data row6 col1\" >472-562</td>\n",
       "                        <td id=\"T_f9bf31f8_a1fc_11ea_a2a4_acbc32839263row6_col2\" class=\"data row6 col2\" >494-563</td>\n",
       "            </tr>\n",
       "            <tr>\n",
       "                                <th id=\"T_f9bf31f8_a1fc_11ea_a2a4_acbc32839263level1_row7\" class=\"row_heading level1 row7\" >60-69 years</th>\n",
       "                        <td id=\"T_f9bf31f8_a1fc_11ea_a2a4_acbc32839263row7_col0\" class=\"data row7 col0\" >1-17</td>\n",
       "                        <td id=\"T_f9bf31f8_a1fc_11ea_a2a4_acbc32839263row7_col1\" class=\"data row7 col1\" >181-249</td>\n",
       "                        <td id=\"T_f9bf31f8_a1fc_11ea_a2a4_acbc32839263row7_col2\" class=\"data row7 col2\" >196-250</td>\n",
       "            </tr>\n",
       "            <tr>\n",
       "                                <th id=\"T_f9bf31f8_a1fc_11ea_a2a4_acbc32839263level1_row8\" class=\"row_heading level1 row8\" >70+ years</th>\n",
       "                        <td id=\"T_f9bf31f8_a1fc_11ea_a2a4_acbc32839263row8_col0\" class=\"data row8 col0\" >0-5</td>\n",
       "                        <td id=\"T_f9bf31f8_a1fc_11ea_a2a4_acbc32839263row8_col1\" class=\"data row8 col1\" >57-79</td>\n",
       "                        <td id=\"T_f9bf31f8_a1fc_11ea_a2a4_acbc32839263row8_col2\" class=\"data row8 col2\" >62-79</td>\n",
       "            </tr>\n",
       "            <tr>\n",
       "                        <th id=\"T_f9bf31f8_a1fc_11ea_a2a4_acbc32839263level0_row9\" class=\"row_heading level0 row9\" rowspan=9>Hospital Person-Days</th>\n",
       "                        <th id=\"T_f9bf31f8_a1fc_11ea_a2a4_acbc32839263level1_row9\" class=\"row_heading level1 row9\" >all ages</th>\n",
       "                        <td id=\"T_f9bf31f8_a1fc_11ea_a2a4_acbc32839263row9_col0\" class=\"data row9 col0\" >4-27</td>\n",
       "                        <td id=\"T_f9bf31f8_a1fc_11ea_a2a4_acbc32839263row9_col1\" class=\"data row9 col1\" >1302-2009</td>\n",
       "                        <td id=\"T_f9bf31f8_a1fc_11ea_a2a4_acbc32839263row9_col2\" class=\"data row9 col2\" >1750-2158</td>\n",
       "            </tr>\n",
       "            <tr>\n",
       "                                <th id=\"T_f9bf31f8_a1fc_11ea_a2a4_acbc32839263level1_row10\" class=\"row_heading level1 row10\" ><9 years</th>\n",
       "                        <td id=\"T_f9bf31f8_a1fc_11ea_a2a4_acbc32839263row10_col0\" class=\"data row10 col0\" >0-1</td>\n",
       "                        <td id=\"T_f9bf31f8_a1fc_11ea_a2a4_acbc32839263row10_col1\" class=\"data row10 col1\" >74-130</td>\n",
       "                        <td id=\"T_f9bf31f8_a1fc_11ea_a2a4_acbc32839263row10_col2\" class=\"data row10 col2\" >113-141</td>\n",
       "            </tr>\n",
       "            <tr>\n",
       "                                <th id=\"T_f9bf31f8_a1fc_11ea_a2a4_acbc32839263level1_row11\" class=\"row_heading level1 row11\" >10-19 years</th>\n",
       "                        <td id=\"T_f9bf31f8_a1fc_11ea_a2a4_acbc32839263row11_col0\" class=\"data row11 col0\" >0-3</td>\n",
       "                        <td id=\"T_f9bf31f8_a1fc_11ea_a2a4_acbc32839263row11_col1\" class=\"data row11 col1\" >122-163</td>\n",
       "                        <td id=\"T_f9bf31f8_a1fc_11ea_a2a4_acbc32839263row11_col2\" class=\"data row11 col2\" >143-172</td>\n",
       "            </tr>\n",
       "            <tr>\n",
       "                                <th id=\"T_f9bf31f8_a1fc_11ea_a2a4_acbc32839263level1_row12\" class=\"row_heading level1 row12\" >20-29 years</th>\n",
       "                        <td id=\"T_f9bf31f8_a1fc_11ea_a2a4_acbc32839263row12_col0\" class=\"data row12 col0\" >1-4</td>\n",
       "                        <td id=\"T_f9bf31f8_a1fc_11ea_a2a4_acbc32839263row12_col1\" class=\"data row12 col1\" >176-249</td>\n",
       "                        <td id=\"T_f9bf31f8_a1fc_11ea_a2a4_acbc32839263row12_col2\" class=\"data row12 col2\" >219-265</td>\n",
       "            </tr>\n",
       "            <tr>\n",
       "                                <th id=\"T_f9bf31f8_a1fc_11ea_a2a4_acbc32839263level1_row13\" class=\"row_heading level1 row13\" >30-39 years</th>\n",
       "                        <td id=\"T_f9bf31f8_a1fc_11ea_a2a4_acbc32839263row13_col0\" class=\"data row13 col0\" >1-5</td>\n",
       "                        <td id=\"T_f9bf31f8_a1fc_11ea_a2a4_acbc32839263row13_col1\" class=\"data row13 col1\" >197-279</td>\n",
       "                        <td id=\"T_f9bf31f8_a1fc_11ea_a2a4_acbc32839263row13_col2\" class=\"data row13 col2\" >246-298</td>\n",
       "            </tr>\n",
       "            <tr>\n",
       "                                <th id=\"T_f9bf31f8_a1fc_11ea_a2a4_acbc32839263level1_row14\" class=\"row_heading level1 row14\" >40-49 years</th>\n",
       "                        <td id=\"T_f9bf31f8_a1fc_11ea_a2a4_acbc32839263row14_col0\" class=\"data row14 col0\" >1-5</td>\n",
       "                        <td id=\"T_f9bf31f8_a1fc_11ea_a2a4_acbc32839263row14_col1\" class=\"data row14 col1\" >241-358</td>\n",
       "                        <td id=\"T_f9bf31f8_a1fc_11ea_a2a4_acbc32839263row14_col2\" class=\"data row14 col2\" >316-384</td>\n",
       "            </tr>\n",
       "            <tr>\n",
       "                                <th id=\"T_f9bf31f8_a1fc_11ea_a2a4_acbc32839263level1_row15\" class=\"row_heading level1 row15\" >50-59 years</th>\n",
       "                        <td id=\"T_f9bf31f8_a1fc_11ea_a2a4_acbc32839263row15_col0\" class=\"data row15 col0\" >1-6</td>\n",
       "                        <td id=\"T_f9bf31f8_a1fc_11ea_a2a4_acbc32839263row15_col1\" class=\"data row15 col1\" >294-471</td>\n",
       "                        <td id=\"T_f9bf31f8_a1fc_11ea_a2a4_acbc32839263row15_col2\" class=\"data row15 col2\" >408-507</td>\n",
       "            </tr>\n",
       "            <tr>\n",
       "                                <th id=\"T_f9bf31f8_a1fc_11ea_a2a4_acbc32839263level1_row16\" class=\"row_heading level1 row16\" >60-69 years</th>\n",
       "                        <td id=\"T_f9bf31f8_a1fc_11ea_a2a4_acbc32839263row16_col0\" class=\"data row16 col0\" >0-2</td>\n",
       "                        <td id=\"T_f9bf31f8_a1fc_11ea_a2a4_acbc32839263row16_col1\" class=\"data row16 col1\" >129-254</td>\n",
       "                        <td id=\"T_f9bf31f8_a1fc_11ea_a2a4_acbc32839263row16_col2\" class=\"data row16 col2\" >206-274</td>\n",
       "            </tr>\n",
       "            <tr>\n",
       "                                <th id=\"T_f9bf31f8_a1fc_11ea_a2a4_acbc32839263level1_row17\" class=\"row_heading level1 row17\" >70+ years</th>\n",
       "                        <td id=\"T_f9bf31f8_a1fc_11ea_a2a4_acbc32839263row17_col0\" class=\"data row17 col0\" >0-1</td>\n",
       "                        <td id=\"T_f9bf31f8_a1fc_11ea_a2a4_acbc32839263row17_col1\" class=\"data row17 col1\" >62-121</td>\n",
       "                        <td id=\"T_f9bf31f8_a1fc_11ea_a2a4_acbc32839263row17_col2\" class=\"data row17 col2\" >99-131</td>\n",
       "            </tr>\n",
       "            <tr>\n",
       "                        <th id=\"T_f9bf31f8_a1fc_11ea_a2a4_acbc32839263level0_row18\" class=\"row_heading level0 row18\" rowspan=9>Critical Person-days</th>\n",
       "                        <th id=\"T_f9bf31f8_a1fc_11ea_a2a4_acbc32839263level1_row18\" class=\"row_heading level1 row18\" >all ages</th>\n",
       "                        <td id=\"T_f9bf31f8_a1fc_11ea_a2a4_acbc32839263row18_col0\" class=\"data row18 col0\" >1-3</td>\n",
       "                        <td id=\"T_f9bf31f8_a1fc_11ea_a2a4_acbc32839263row18_col1\" class=\"data row18 col1\" >257-391</td>\n",
       "                        <td id=\"T_f9bf31f8_a1fc_11ea_a2a4_acbc32839263row18_col2\" class=\"data row18 col2\" >430-491</td>\n",
       "            </tr>\n",
       "            <tr>\n",
       "                                <th id=\"T_f9bf31f8_a1fc_11ea_a2a4_acbc32839263level1_row19\" class=\"row_heading level1 row19\" ><9 years</th>\n",
       "                        <td id=\"T_f9bf31f8_a1fc_11ea_a2a4_acbc32839263row19_col0\" class=\"data row19 col0\" >0-0</td>\n",
       "                        <td id=\"T_f9bf31f8_a1fc_11ea_a2a4_acbc32839263row19_col1\" class=\"data row19 col1\" >14-25</td>\n",
       "                        <td id=\"T_f9bf31f8_a1fc_11ea_a2a4_acbc32839263row19_col2\" class=\"data row19 col2\" >28-32</td>\n",
       "            </tr>\n",
       "            <tr>\n",
       "                                <th id=\"T_f9bf31f8_a1fc_11ea_a2a4_acbc32839263level1_row20\" class=\"row_heading level1 row20\" >10-19 years</th>\n",
       "                        <td id=\"T_f9bf31f8_a1fc_11ea_a2a4_acbc32839263row20_col0\" class=\"data row20 col0\" >0-0</td>\n",
       "                        <td id=\"T_f9bf31f8_a1fc_11ea_a2a4_acbc32839263row20_col1\" class=\"data row20 col1\" >25-31</td>\n",
       "                        <td id=\"T_f9bf31f8_a1fc_11ea_a2a4_acbc32839263row20_col2\" class=\"data row20 col2\" >33-40</td>\n",
       "            </tr>\n",
       "            <tr>\n",
       "                                <th id=\"T_f9bf31f8_a1fc_11ea_a2a4_acbc32839263level1_row21\" class=\"row_heading level1 row21\" >20-29 years</th>\n",
       "                        <td id=\"T_f9bf31f8_a1fc_11ea_a2a4_acbc32839263row21_col0\" class=\"data row21 col0\" >0-0</td>\n",
       "                        <td id=\"T_f9bf31f8_a1fc_11ea_a2a4_acbc32839263row21_col1\" class=\"data row21 col1\" >35-47</td>\n",
       "                        <td id=\"T_f9bf31f8_a1fc_11ea_a2a4_acbc32839263row21_col2\" class=\"data row21 col2\" >51-61</td>\n",
       "            </tr>\n",
       "            <tr>\n",
       "                                <th id=\"T_f9bf31f8_a1fc_11ea_a2a4_acbc32839263level1_row22\" class=\"row_heading level1 row22\" >30-39 years</th>\n",
       "                        <td id=\"T_f9bf31f8_a1fc_11ea_a2a4_acbc32839263row22_col0\" class=\"data row22 col0\" >0-1</td>\n",
       "                        <td id=\"T_f9bf31f8_a1fc_11ea_a2a4_acbc32839263row22_col1\" class=\"data row22 col1\" >39-53</td>\n",
       "                        <td id=\"T_f9bf31f8_a1fc_11ea_a2a4_acbc32839263row22_col2\" class=\"data row22 col2\" >58-68</td>\n",
       "            </tr>\n",
       "            <tr>\n",
       "                                <th id=\"T_f9bf31f8_a1fc_11ea_a2a4_acbc32839263level1_row23\" class=\"row_heading level1 row23\" >40-49 years</th>\n",
       "                        <td id=\"T_f9bf31f8_a1fc_11ea_a2a4_acbc32839263row23_col0\" class=\"data row23 col0\" >0-1</td>\n",
       "                        <td id=\"T_f9bf31f8_a1fc_11ea_a2a4_acbc32839263row23_col1\" class=\"data row23 col1\" >47-68</td>\n",
       "                        <td id=\"T_f9bf31f8_a1fc_11ea_a2a4_acbc32839263row23_col2\" class=\"data row23 col2\" >75-87</td>\n",
       "            </tr>\n",
       "            <tr>\n",
       "                                <th id=\"T_f9bf31f8_a1fc_11ea_a2a4_acbc32839263level1_row24\" class=\"row_heading level1 row24\" >50-59 years</th>\n",
       "                        <td id=\"T_f9bf31f8_a1fc_11ea_a2a4_acbc32839263row24_col0\" class=\"data row24 col0\" >0-1</td>\n",
       "                        <td id=\"T_f9bf31f8_a1fc_11ea_a2a4_acbc32839263row24_col1\" class=\"data row24 col1\" >58-92</td>\n",
       "                        <td id=\"T_f9bf31f8_a1fc_11ea_a2a4_acbc32839263row24_col2\" class=\"data row24 col2\" >101-115</td>\n",
       "            </tr>\n",
       "            <tr>\n",
       "                                <th id=\"T_f9bf31f8_a1fc_11ea_a2a4_acbc32839263level1_row25\" class=\"row_heading level1 row25\" >60-69 years</th>\n",
       "                        <td id=\"T_f9bf31f8_a1fc_11ea_a2a4_acbc32839263row25_col0\" class=\"data row25 col0\" >0-0</td>\n",
       "                        <td id=\"T_f9bf31f8_a1fc_11ea_a2a4_acbc32839263row25_col1\" class=\"data row25 col1\" >25-50</td>\n",
       "                        <td id=\"T_f9bf31f8_a1fc_11ea_a2a4_acbc32839263row25_col2\" class=\"data row25 col2\" >54-64</td>\n",
       "            </tr>\n",
       "            <tr>\n",
       "                                <th id=\"T_f9bf31f8_a1fc_11ea_a2a4_acbc32839263level1_row26\" class=\"row_heading level1 row26\" >70+ years</th>\n",
       "                        <td id=\"T_f9bf31f8_a1fc_11ea_a2a4_acbc32839263row26_col0\" class=\"data row26 col0\" >0-0</td>\n",
       "                        <td id=\"T_f9bf31f8_a1fc_11ea_a2a4_acbc32839263row26_col1\" class=\"data row26 col1\" >12-24</td>\n",
       "                        <td id=\"T_f9bf31f8_a1fc_11ea_a2a4_acbc32839263row26_col2\" class=\"data row26 col2\" >26-31</td>\n",
       "            </tr>\n",
       "            <tr>\n",
       "                        <th id=\"T_f9bf31f8_a1fc_11ea_a2a4_acbc32839263level0_row27\" class=\"row_heading level0 row27\" rowspan=9>Deaths</th>\n",
       "                        <th id=\"T_f9bf31f8_a1fc_11ea_a2a4_acbc32839263level1_row27\" class=\"row_heading level1 row27\" >all ages</th>\n",
       "                        <td id=\"T_f9bf31f8_a1fc_11ea_a2a4_acbc32839263row27_col0\" class=\"data row27 col0\" >0-0</td>\n",
       "                        <td id=\"T_f9bf31f8_a1fc_11ea_a2a4_acbc32839263row27_col1\" class=\"data row27 col1\" >38-63</td>\n",
       "                        <td id=\"T_f9bf31f8_a1fc_11ea_a2a4_acbc32839263row27_col2\" class=\"data row27 col2\" >59-68</td>\n",
       "            </tr>\n",
       "            <tr>\n",
       "                                <th id=\"T_f9bf31f8_a1fc_11ea_a2a4_acbc32839263level1_row28\" class=\"row_heading level1 row28\" ><9 years</th>\n",
       "                        <td id=\"T_f9bf31f8_a1fc_11ea_a2a4_acbc32839263row28_col0\" class=\"data row28 col0\" >0-0</td>\n",
       "                        <td id=\"T_f9bf31f8_a1fc_11ea_a2a4_acbc32839263row28_col1\" class=\"data row28 col1\" >2-4</td>\n",
       "                        <td id=\"T_f9bf31f8_a1fc_11ea_a2a4_acbc32839263row28_col2\" class=\"data row28 col2\" >4-4</td>\n",
       "            </tr>\n",
       "            <tr>\n",
       "                                <th id=\"T_f9bf31f8_a1fc_11ea_a2a4_acbc32839263level1_row29\" class=\"row_heading level1 row29\" >10-19 years</th>\n",
       "                        <td id=\"T_f9bf31f8_a1fc_11ea_a2a4_acbc32839263row29_col0\" class=\"data row29 col0\" >0-0</td>\n",
       "                        <td id=\"T_f9bf31f8_a1fc_11ea_a2a4_acbc32839263row29_col1\" class=\"data row29 col1\" >4-5</td>\n",
       "                        <td id=\"T_f9bf31f8_a1fc_11ea_a2a4_acbc32839263row29_col2\" class=\"data row29 col2\" >5-5</td>\n",
       "            </tr>\n",
       "            <tr>\n",
       "                                <th id=\"T_f9bf31f8_a1fc_11ea_a2a4_acbc32839263level1_row30\" class=\"row_heading level1 row30\" >20-29 years</th>\n",
       "                        <td id=\"T_f9bf31f8_a1fc_11ea_a2a4_acbc32839263row30_col0\" class=\"data row30 col0\" >0-0</td>\n",
       "                        <td id=\"T_f9bf31f8_a1fc_11ea_a2a4_acbc32839263row30_col1\" class=\"data row30 col1\" >5-8</td>\n",
       "                        <td id=\"T_f9bf31f8_a1fc_11ea_a2a4_acbc32839263row30_col2\" class=\"data row30 col2\" >8-8</td>\n",
       "            </tr>\n",
       "            <tr>\n",
       "                                <th id=\"T_f9bf31f8_a1fc_11ea_a2a4_acbc32839263level1_row31\" class=\"row_heading level1 row31\" >30-39 years</th>\n",
       "                        <td id=\"T_f9bf31f8_a1fc_11ea_a2a4_acbc32839263row31_col0\" class=\"data row31 col0\" >0-0</td>\n",
       "                        <td id=\"T_f9bf31f8_a1fc_11ea_a2a4_acbc32839263row31_col1\" class=\"data row31 col1\" >6-9</td>\n",
       "                        <td id=\"T_f9bf31f8_a1fc_11ea_a2a4_acbc32839263row31_col2\" class=\"data row31 col2\" >9-9</td>\n",
       "            </tr>\n",
       "            <tr>\n",
       "                                <th id=\"T_f9bf31f8_a1fc_11ea_a2a4_acbc32839263level1_row32\" class=\"row_heading level1 row32\" >40-49 years</th>\n",
       "                        <td id=\"T_f9bf31f8_a1fc_11ea_a2a4_acbc32839263row32_col0\" class=\"data row32 col0\" >0-0</td>\n",
       "                        <td id=\"T_f9bf31f8_a1fc_11ea_a2a4_acbc32839263row32_col1\" class=\"data row32 col1\" >7-11</td>\n",
       "                        <td id=\"T_f9bf31f8_a1fc_11ea_a2a4_acbc32839263row32_col2\" class=\"data row32 col2\" >11-12</td>\n",
       "            </tr>\n",
       "            <tr>\n",
       "                                <th id=\"T_f9bf31f8_a1fc_11ea_a2a4_acbc32839263level1_row33\" class=\"row_heading level1 row33\" >50-59 years</th>\n",
       "                        <td id=\"T_f9bf31f8_a1fc_11ea_a2a4_acbc32839263row33_col0\" class=\"data row33 col0\" >0-0</td>\n",
       "                        <td id=\"T_f9bf31f8_a1fc_11ea_a2a4_acbc32839263row33_col1\" class=\"data row33 col1\" >9-15</td>\n",
       "                        <td id=\"T_f9bf31f8_a1fc_11ea_a2a4_acbc32839263row33_col2\" class=\"data row33 col2\" >14-16</td>\n",
       "            </tr>\n",
       "            <tr>\n",
       "                                <th id=\"T_f9bf31f8_a1fc_11ea_a2a4_acbc32839263level1_row34\" class=\"row_heading level1 row34\" >60-69 years</th>\n",
       "                        <td id=\"T_f9bf31f8_a1fc_11ea_a2a4_acbc32839263row34_col0\" class=\"data row34 col0\" >0-0</td>\n",
       "                        <td id=\"T_f9bf31f8_a1fc_11ea_a2a4_acbc32839263row34_col1\" class=\"data row34 col1\" >4-8</td>\n",
       "                        <td id=\"T_f9bf31f8_a1fc_11ea_a2a4_acbc32839263row34_col2\" class=\"data row34 col2\" >7-9</td>\n",
       "            </tr>\n",
       "            <tr>\n",
       "                                <th id=\"T_f9bf31f8_a1fc_11ea_a2a4_acbc32839263level1_row35\" class=\"row_heading level1 row35\" >70+ years</th>\n",
       "                        <td id=\"T_f9bf31f8_a1fc_11ea_a2a4_acbc32839263row35_col0\" class=\"data row35 col0\" >0-0</td>\n",
       "                        <td id=\"T_f9bf31f8_a1fc_11ea_a2a4_acbc32839263row35_col1\" class=\"data row35 col1\" >2-4</td>\n",
       "                        <td id=\"T_f9bf31f8_a1fc_11ea_a2a4_acbc32839263row35_col2\" class=\"data row35 col2\" >3-4</td>\n",
       "            </tr>\n",
       "    </tbody></table>"
      ],
      "text/plain": [
       "<pandas.io.formats.style.Styler at 0x12488bc90>"
      ]
     },
     "execution_count": 3,
     "metadata": {},
     "output_type": "execute_result"
    }
   ],
   "source": [
    "count_table_age=cumulative_age_table(baseline);count_table_age"
   ]
  },
  {
   "cell_type": "markdown",
   "metadata": {},
   "source": [
    "The cumulative table for different disease status paints a similar picture compared to the peak incidence table where younger redisents account for most of the symptomatic infections but the older residents account for most of the hospitalisation/critical/death incidences. Most of the cases come from 2-3 months while in first months the number of symptomatically infected people could range from 100 to 1000."
   ]
  },
  {
   "cell_type": "code",
   "execution_count": null,
   "metadata": {},
   "outputs": [],
   "source": [
    "plot_by_age_all(baseline)"
   ]
  },
  {
   "cell_type": "markdown",
   "metadata": {},
   "source": [
    "Visually comparing different age groups in different disease status, residents of age 50-59 are hit the hardest in terms of hopitatlisation, critical and deaths with residents of age 40-49 second in line. In terms of symptomatic infection, residents of age 20-29 are affected the worst with residents of age 10-19 second in line."
   ]
  },
  {
   "cell_type": "markdown",
   "metadata": {},
   "source": [
    "## 2. Invervention scenarios"
   ]
  },
  {
   "cell_type": "markdown",
   "metadata": {},
   "source": [
    "### 2.1 Single intervention scenarios"
   ]
  },
  {
   "cell_type": "markdown",
   "metadata": {},
   "source": [
    "We assumed these interventions are applied at the camp wide level and they are assumed to have full coverage starting from a certain day that is specified by the simulation and there are five interventions that are currently implemented. \n",
    "\n",
    "* Improved handwashing, better PPE equipment for everyone and other interventions that aim to reduce person-to-person transmission probabilities that is not location specific belongs to this first group of intervention. Here we set the effectiveness of the intervention as anther variable: 25% reduction in transmission rate: somewhat effective, 50% reduction: effective, 75% reduction: very effective.\n",
    "* Move high-risk residents (age>70) offsite. Here we control the time periods that this is happening and the amount of high-risk people being moved off site each day during that tiem period.\n",
    "* Isolate sympotomatically infected residents: here we assume the residents are qurantine in a seperate qurantine centre off site therefore the transmission between infected residents in these centres with anyone outside is cut off (we haven't factored in the case where detecting these individuals can have a period of delay and the isolation centres that are currently in place are inside the camp where people still share water points and toilets.)\n",
    "* Build up ICU bed capacity: we know that on the island of Lesbos there are only 6 ICU beds currently available so we explore the case of building up the ICU beds to 100 to see how that can have an effect. This will only have an impact on the death rate as this won't stop the contagion from spreading within the camp (in reality the ICU bed capacity requirement can be easily tracked through critical cases outlined in the previous section where patients require a treatment package.)\n",
    "* Shielding: where the high risk residents (>60 year olds) are housed in a green zone in the camp facility and they self-manage the sector while the entry into the greenzone is limited so the contact between older residents and younger residents are reduced.\n",
    "\n",
    "(draft conclusion) Here we explore the effect of a single intervention and the combination of one,two,three,four or even five interventions altogether. It should become clear that though some interventions are more effective than others in driving down peak counts, a combination of effective intervention strategy is the best"
   ]
  },
  {
   "cell_type": "markdown",
   "metadata": {},
   "source": [
    "The % net reduction to cases, deaths, and hospitalised person­days in these scenarios, 200 days after initial introduction in Moria"
   ]
  },
  {
   "cell_type": "markdown",
   "metadata": {},
   "source": [
    "### 2.1.1 Improved personal hygiene (social distancing/PPE/regular handwashing)"
   ]
  },
  {
   "cell_type": "markdown",
   "metadata": {},
   "source": [
    "We are exploring two factors here:\n",
    "* How effective the intervention measures will have to be the reduce the spread of the virus?\n",
    "* How long the measures will have to be in place for them to be effective"
   ]
  },
  {
   "cell_type": "code",
   "execution_count": 3,
   "metadata": {},
   "outputs": [
    {
     "data": {
      "text/html": [
       "<style  type=\"text/css\" >\n",
       "    #T_f53bbcc6_a1fe_11ea_b792_acbc32839263 th {\n",
       "          font-size: 15px;\n",
       "          text-align: center;\n",
       "          font-weight: bold;\n",
       "          color: #6d6d6d;\n",
       "          background-color: #f7f7f9;\n",
       "    }    #T_f53bbcc6_a1fe_11ea_b792_acbc32839263 td {\n",
       "          font-size: 15px;\n",
       "          text-align: center;\n",
       "    }    #T_f53bbcc6_a1fe_11ea_b792_acbc32839263 caption {\n",
       "          font-size: 15px;\n",
       "          text-align: center;\n",
       "    }</style><table id=\"T_f53bbcc6_a1fe_11ea_b792_acbc32839263\" ><caption>Table 3. Cumulative case counts of different disease states of COVID19</caption><thead>    <tr>        <th class=\"blank level0\" ></th>        <th class=\"col_heading level0 col0\" >reduce transmission by 30% by social distancing/mask/handwashing from day 0 to day 30</th>        <th class=\"col_heading level0 col1\" >reduce transmission by 30% by social distancing/mask/handwashing from day 0 to day 60</th>        <th class=\"col_heading level0 col2\" >reduce transmission by 30% by social distancing/mask/handwashing from day 0 to day 90</th>        <th class=\"col_heading level0 col3\" >reduce transmission by 30% by social distancing/mask/handwashing from day 0 to day 200</th>    </tr>    <tr>        <th class=\"index_name level0\" >Total</th>        <th class=\"blank\" ></th>        <th class=\"blank\" ></th>        <th class=\"blank\" ></th>        <th class=\"blank\" ></th>    </tr></thead><tbody>\n",
       "                <tr>\n",
       "                        <th id=\"T_f53bbcc6_a1fe_11ea_b792_acbc32839263level0_row0\" class=\"row_heading level0 row0\" >Symptomatic Cases</th>\n",
       "                        <td id=\"T_f53bbcc6_a1fe_11ea_b792_acbc32839263row0_col0\" class=\"data row0 col0\" >0%~0%</td>\n",
       "                        <td id=\"T_f53bbcc6_a1fe_11ea_b792_acbc32839263row0_col1\" class=\"data row0 col1\" >1%~2%</td>\n",
       "                        <td id=\"T_f53bbcc6_a1fe_11ea_b792_acbc32839263row0_col2\" class=\"data row0 col2\" >5%~7%</td>\n",
       "                        <td id=\"T_f53bbcc6_a1fe_11ea_b792_acbc32839263row0_col3\" class=\"data row0 col3\" >9%~20%</td>\n",
       "            </tr>\n",
       "            <tr>\n",
       "                        <th id=\"T_f53bbcc6_a1fe_11ea_b792_acbc32839263level0_row1\" class=\"row_heading level0 row1\" >Hospital Person-Days</th>\n",
       "                        <td id=\"T_f53bbcc6_a1fe_11ea_b792_acbc32839263row1_col0\" class=\"data row1 col0\" >0%~0%</td>\n",
       "                        <td id=\"T_f53bbcc6_a1fe_11ea_b792_acbc32839263row1_col1\" class=\"data row1 col1\" >1%~2%</td>\n",
       "                        <td id=\"T_f53bbcc6_a1fe_11ea_b792_acbc32839263row1_col2\" class=\"data row1 col2\" >5%~7%</td>\n",
       "                        <td id=\"T_f53bbcc6_a1fe_11ea_b792_acbc32839263row1_col3\" class=\"data row1 col3\" >12%~21%</td>\n",
       "            </tr>\n",
       "            <tr>\n",
       "                        <th id=\"T_f53bbcc6_a1fe_11ea_b792_acbc32839263level0_row2\" class=\"row_heading level0 row2\" >Critical Person-days</th>\n",
       "                        <td id=\"T_f53bbcc6_a1fe_11ea_b792_acbc32839263row2_col0\" class=\"data row2 col0\" >0%~0%</td>\n",
       "                        <td id=\"T_f53bbcc6_a1fe_11ea_b792_acbc32839263row2_col1\" class=\"data row2 col1\" >-3%~-2%</td>\n",
       "                        <td id=\"T_f53bbcc6_a1fe_11ea_b792_acbc32839263row2_col2\" class=\"data row2 col2\" >-5%~-5%</td>\n",
       "                        <td id=\"T_f53bbcc6_a1fe_11ea_b792_acbc32839263row2_col3\" class=\"data row2 col3\" >0%~1%</td>\n",
       "            </tr>\n",
       "            <tr>\n",
       "                        <th id=\"T_f53bbcc6_a1fe_11ea_b792_acbc32839263level0_row3\" class=\"row_heading level0 row3\" >Deaths</th>\n",
       "                        <td id=\"T_f53bbcc6_a1fe_11ea_b792_acbc32839263row3_col0\" class=\"data row3 col0\" >0%~0%</td>\n",
       "                        <td id=\"T_f53bbcc6_a1fe_11ea_b792_acbc32839263row3_col1\" class=\"data row3 col1\" >2%~3%</td>\n",
       "                        <td id=\"T_f53bbcc6_a1fe_11ea_b792_acbc32839263row3_col2\" class=\"data row3 col2\" >8%~10%</td>\n",
       "                        <td id=\"T_f53bbcc6_a1fe_11ea_b792_acbc32839263row3_col3\" class=\"data row3 col3\" >13%~29%</td>\n",
       "            </tr>\n",
       "    </tbody></table>"
      ],
      "text/plain": [
       "<pandas.io.formats.style.Styler at 0x12eebfe10>"
      ]
     },
     "execution_count": 3,
     "metadata": {},
     "output_type": "execute_result"
    }
   ],
   "source": [
    "effectiveness_table_hygiene(baseline,timing=True)"
   ]
  },
  {
   "cell_type": "code",
   "execution_count": 2,
   "metadata": {},
   "outputs": [
    {
     "data": {
      "text/html": [
       "<style  type=\"text/css\" >\n",
       "    #T_3123b132_a20c_11ea_9583_acbc32839263 th {\n",
       "          font-size: 15px;\n",
       "          text-align: center;\n",
       "          font-weight: bold;\n",
       "          color: #6d6d6d;\n",
       "          background-color: #f7f7f9;\n",
       "    }    #T_3123b132_a20c_11ea_9583_acbc32839263 td {\n",
       "          font-size: 15px;\n",
       "          text-align: center;\n",
       "    }    #T_3123b132_a20c_11ea_9583_acbc32839263 caption {\n",
       "          font-size: 15px;\n",
       "          text-align: center;\n",
       "    }</style><table id=\"T_3123b132_a20c_11ea_9583_acbc32839263\" ><caption>Table 3. Cumulative case counts of different disease states of COVID19</caption><thead>    <tr>        <th class=\"blank level0\" ></th>        <th class=\"col_heading level0 col0\" colspan=2>reduce transmission by 30% by social distancing/mask/handwashing from day 0 to day 30</th>        <th class=\"col_heading level0 col2\" colspan=2>reduce transmission by 30% by social distancing/mask/handwashing from day 0 to day 60</th>        <th class=\"col_heading level0 col4\" colspan=2>reduce transmission by 30% by social distancing/mask/handwashing from day 0 to day 90</th>        <th class=\"col_heading level0 col6\" colspan=2>reduce transmission by 30% by social distancing/mask/handwashing from day 0 to day 200</th>    </tr>    <tr>        <th class=\"blank level1\" ></th>        <th class=\"col_heading level1 col0\" >Delay in Peak Day IQR</th>        <th class=\"col_heading level1 col1\" >Reduction in Peak Number IQR</th>        <th class=\"col_heading level1 col2\" >Delay in Peak Day IQR</th>        <th class=\"col_heading level1 col3\" >Reduction in Peak Number IQR</th>        <th class=\"col_heading level1 col4\" >Delay in Peak Day IQR</th>        <th class=\"col_heading level1 col5\" >Reduction in Peak Number IQR</th>        <th class=\"col_heading level1 col6\" >Delay in Peak Day IQR</th>        <th class=\"col_heading level1 col7\" >Reduction in Peak Number IQR</th>    </tr></thead><tbody>\n",
       "                <tr>\n",
       "                        <th id=\"T_3123b132_a20c_11ea_9583_acbc32839263level0_row0\" class=\"row_heading level0 row0\" >Incidence of Symptomatic Cases</th>\n",
       "                        <td id=\"T_3123b132_a20c_11ea_9583_acbc32839263row0_col0\" class=\"data row0 col0\" >10~13 days</td>\n",
       "                        <td id=\"T_3123b132_a20c_11ea_9583_acbc32839263row0_col1\" class=\"data row0 col1\" >0%~1%</td>\n",
       "                        <td id=\"T_3123b132_a20c_11ea_9583_acbc32839263row0_col2\" class=\"data row0 col2\" >21~26 days</td>\n",
       "                        <td id=\"T_3123b132_a20c_11ea_9583_acbc32839263row0_col3\" class=\"data row0 col3\" >9%~17%</td>\n",
       "                        <td id=\"T_3123b132_a20c_11ea_9583_acbc32839263row0_col4\" class=\"data row0 col4\" >18~40 days</td>\n",
       "                        <td id=\"T_3123b132_a20c_11ea_9583_acbc32839263row0_col5\" class=\"data row0 col5\" >24%~32%</td>\n",
       "                        <td id=\"T_3123b132_a20c_11ea_9583_acbc32839263row0_col6\" class=\"data row0 col6\" >17~37 days</td>\n",
       "                        <td id=\"T_3123b132_a20c_11ea_9583_acbc32839263row0_col7\" class=\"data row0 col7\" >33%~47%</td>\n",
       "            </tr>\n",
       "            <tr>\n",
       "                        <th id=\"T_3123b132_a20c_11ea_9583_acbc32839263level0_row1\" class=\"row_heading level0 row1\" >Hospitalisation Demand</th>\n",
       "                        <td id=\"T_3123b132_a20c_11ea_9583_acbc32839263row1_col0\" class=\"data row1 col0\" >10~13 days</td>\n",
       "                        <td id=\"T_3123b132_a20c_11ea_9583_acbc32839263row1_col1\" class=\"data row1 col1\" >0%~0%</td>\n",
       "                        <td id=\"T_3123b132_a20c_11ea_9583_acbc32839263row1_col2\" class=\"data row1 col2\" >21~26 days</td>\n",
       "                        <td id=\"T_3123b132_a20c_11ea_9583_acbc32839263row1_col3\" class=\"data row1 col3\" >4%~15%</td>\n",
       "                        <td id=\"T_3123b132_a20c_11ea_9583_acbc32839263row1_col4\" class=\"data row1 col4\" >19~40 days</td>\n",
       "                        <td id=\"T_3123b132_a20c_11ea_9583_acbc32839263row1_col5\" class=\"data row1 col5\" >22%~30%</td>\n",
       "                        <td id=\"T_3123b132_a20c_11ea_9583_acbc32839263row1_col6\" class=\"data row1 col6\" >18~38 days</td>\n",
       "                        <td id=\"T_3123b132_a20c_11ea_9583_acbc32839263row1_col7\" class=\"data row1 col7\" >30%~47%</td>\n",
       "            </tr>\n",
       "            <tr>\n",
       "                        <th id=\"T_3123b132_a20c_11ea_9583_acbc32839263level0_row2\" class=\"row_heading level0 row2\" >Critical Care Demand</th>\n",
       "                        <td id=\"T_3123b132_a20c_11ea_9583_acbc32839263row2_col0\" class=\"data row2 col0\" >11~13 days</td>\n",
       "                        <td id=\"T_3123b132_a20c_11ea_9583_acbc32839263row2_col1\" class=\"data row2 col1\" >0%~0%</td>\n",
       "                        <td id=\"T_3123b132_a20c_11ea_9583_acbc32839263row2_col2\" class=\"data row2 col2\" >21~25 days</td>\n",
       "                        <td id=\"T_3123b132_a20c_11ea_9583_acbc32839263row2_col3\" class=\"data row2 col3\" >0%~10%</td>\n",
       "                        <td id=\"T_3123b132_a20c_11ea_9583_acbc32839263row2_col4\" class=\"data row2 col4\" >19~39 days</td>\n",
       "                        <td id=\"T_3123b132_a20c_11ea_9583_acbc32839263row2_col5\" class=\"data row2 col5\" >0%~10%</td>\n",
       "                        <td id=\"T_3123b132_a20c_11ea_9583_acbc32839263row2_col6\" class=\"data row2 col6\" >18~38 days</td>\n",
       "                        <td id=\"T_3123b132_a20c_11ea_9583_acbc32839263row2_col7\" class=\"data row2 col7\" >14%~20%</td>\n",
       "            </tr>\n",
       "            <tr>\n",
       "                        <th id=\"T_3123b132_a20c_11ea_9583_acbc32839263level0_row3\" class=\"row_heading level0 row3\" >Incidence of Deaths</th>\n",
       "                        <td id=\"T_3123b132_a20c_11ea_9583_acbc32839263row3_col0\" class=\"data row3 col0\" >10~13 days</td>\n",
       "                        <td id=\"T_3123b132_a20c_11ea_9583_acbc32839263row3_col1\" class=\"data row3 col1\" >0%~0%</td>\n",
       "                        <td id=\"T_3123b132_a20c_11ea_9583_acbc32839263row3_col2\" class=\"data row3 col2\" >21~26 days</td>\n",
       "                        <td id=\"T_3123b132_a20c_11ea_9583_acbc32839263row3_col3\" class=\"data row3 col3\" >0%~50%</td>\n",
       "                        <td id=\"T_3123b132_a20c_11ea_9583_acbc32839263row3_col4\" class=\"data row3 col4\" >19~40 days</td>\n",
       "                        <td id=\"T_3123b132_a20c_11ea_9583_acbc32839263row3_col5\" class=\"data row3 col5\" >0%~50%</td>\n",
       "                        <td id=\"T_3123b132_a20c_11ea_9583_acbc32839263row3_col6\" class=\"data row3 col6\" >18~38 days</td>\n",
       "                        <td id=\"T_3123b132_a20c_11ea_9583_acbc32839263row3_col7\" class=\"data row3 col7\" >0%~50%</td>\n",
       "            </tr>\n",
       "    </tbody></table>"
      ],
      "text/plain": [
       "<pandas.io.formats.style.Styler at 0x120976d10>"
      ]
     },
     "execution_count": 2,
     "metadata": {},
     "output_type": "execute_result"
    }
   ],
   "source": [
    "effectiveness_peak_table_hygiene(baseline,timing=True)"
   ]
  },
  {
   "cell_type": "markdown",
   "metadata": {},
   "source": [
    "Here we explore how the duration of implementing such measures could have an impact on the number of cases reduced and lives saved. Clearly the longer the better personal hygiene meause are in place the better. Interesting to note that, if these improving hygiene measures are only implemented during the nascent period of the virus (first month) it won't have an impact on the spreak of the virus at all. 2 months of applying the measures will yield a minimal reduce in accumulative numbers while implementing for 3+ months can really start yielding promising results in curbing the spread of the virus"
   ]
  },
  {
   "cell_type": "code",
   "execution_count": 4,
   "metadata": {},
   "outputs": [
    {
     "data": {
      "text/html": [
       "<style  type=\"text/css\" >\n",
       "    #T_fb5b7a6a_a1fe_11ea_b792_acbc32839263 th {\n",
       "          font-size: 15px;\n",
       "          text-align: center;\n",
       "          font-weight: bold;\n",
       "          color: #6d6d6d;\n",
       "          background-color: #f7f7f9;\n",
       "    }    #T_fb5b7a6a_a1fe_11ea_b792_acbc32839263 td {\n",
       "          font-size: 15px;\n",
       "          text-align: center;\n",
       "    }    #T_fb5b7a6a_a1fe_11ea_b792_acbc32839263 caption {\n",
       "          font-size: 15px;\n",
       "          text-align: center;\n",
       "    }</style><table id=\"T_fb5b7a6a_a1fe_11ea_b792_acbc32839263\" ><caption>Table 3. Cumulative case counts of different disease states of COVID19</caption><thead>    <tr>        <th class=\"blank level0\" ></th>        <th class=\"col_heading level0 col0\" >reduce transmission by 30% by social distancing/mask/handwashing from day 0 to day 200</th>        <th class=\"col_heading level0 col1\" >reduce transmission by 20% by social distancing/mask/handwashing from day 0 to day 200</th>        <th class=\"col_heading level0 col2\" >reduce transmission by 10% by social distancing/mask/handwashing from day 0 to day 200</th>    </tr>    <tr>        <th class=\"index_name level0\" >Total</th>        <th class=\"blank\" ></th>        <th class=\"blank\" ></th>        <th class=\"blank\" ></th>    </tr></thead><tbody>\n",
       "                <tr>\n",
       "                        <th id=\"T_fb5b7a6a_a1fe_11ea_b792_acbc32839263level0_row0\" class=\"row_heading level0 row0\" >Symptomatic Cases</th>\n",
       "                        <td id=\"T_fb5b7a6a_a1fe_11ea_b792_acbc32839263row0_col0\" class=\"data row0 col0\" >9%~20%</td>\n",
       "                        <td id=\"T_fb5b7a6a_a1fe_11ea_b792_acbc32839263row0_col1\" class=\"data row0 col1\" >5%~11%</td>\n",
       "                        <td id=\"T_fb5b7a6a_a1fe_11ea_b792_acbc32839263row0_col2\" class=\"data row0 col2\" >2%~5%</td>\n",
       "            </tr>\n",
       "            <tr>\n",
       "                        <th id=\"T_fb5b7a6a_a1fe_11ea_b792_acbc32839263level0_row1\" class=\"row_heading level0 row1\" >Hospital Person-Days</th>\n",
       "                        <td id=\"T_fb5b7a6a_a1fe_11ea_b792_acbc32839263row1_col0\" class=\"data row1 col0\" >12%~21%</td>\n",
       "                        <td id=\"T_fb5b7a6a_a1fe_11ea_b792_acbc32839263row1_col1\" class=\"data row1 col1\" >7%~11%</td>\n",
       "                        <td id=\"T_fb5b7a6a_a1fe_11ea_b792_acbc32839263row1_col2\" class=\"data row1 col2\" >3%~5%</td>\n",
       "            </tr>\n",
       "            <tr>\n",
       "                        <th id=\"T_fb5b7a6a_a1fe_11ea_b792_acbc32839263level0_row2\" class=\"row_heading level0 row2\" >Critical Person-days</th>\n",
       "                        <td id=\"T_fb5b7a6a_a1fe_11ea_b792_acbc32839263row2_col0\" class=\"data row2 col0\" >0%~1%</td>\n",
       "                        <td id=\"T_fb5b7a6a_a1fe_11ea_b792_acbc32839263row2_col1\" class=\"data row2 col1\" >-1%~0%</td>\n",
       "                        <td id=\"T_fb5b7a6a_a1fe_11ea_b792_acbc32839263row2_col2\" class=\"data row2 col2\" >0%~0%</td>\n",
       "            </tr>\n",
       "            <tr>\n",
       "                        <th id=\"T_fb5b7a6a_a1fe_11ea_b792_acbc32839263level0_row3\" class=\"row_heading level0 row3\" >Deaths</th>\n",
       "                        <td id=\"T_fb5b7a6a_a1fe_11ea_b792_acbc32839263row3_col0\" class=\"data row3 col0\" >13%~29%</td>\n",
       "                        <td id=\"T_fb5b7a6a_a1fe_11ea_b792_acbc32839263row3_col1\" class=\"data row3 col1\" >7%~15%</td>\n",
       "                        <td id=\"T_fb5b7a6a_a1fe_11ea_b792_acbc32839263row3_col2\" class=\"data row3 col2\" >3%~7%</td>\n",
       "            </tr>\n",
       "    </tbody></table>"
      ],
      "text/plain": [
       "<pandas.io.formats.style.Styler at 0x12efb0410>"
      ]
     },
     "execution_count": 4,
     "metadata": {},
     "output_type": "execute_result"
    }
   ],
   "source": [
    "effectiveness_table_hygiene(baseline,timing=False)"
   ]
  },
  {
   "cell_type": "code",
   "execution_count": 3,
   "metadata": {},
   "outputs": [
    {
     "data": {
      "text/html": [
       "<style  type=\"text/css\" >\n",
       "    #T_37365f66_a20c_11ea_9583_acbc32839263 th {\n",
       "          font-size: 15px;\n",
       "          text-align: center;\n",
       "          font-weight: bold;\n",
       "          color: #6d6d6d;\n",
       "          background-color: #f7f7f9;\n",
       "    }    #T_37365f66_a20c_11ea_9583_acbc32839263 td {\n",
       "          font-size: 15px;\n",
       "          text-align: center;\n",
       "    }    #T_37365f66_a20c_11ea_9583_acbc32839263 caption {\n",
       "          font-size: 15px;\n",
       "          text-align: center;\n",
       "    }</style><table id=\"T_37365f66_a20c_11ea_9583_acbc32839263\" ><caption>Table 3. Cumulative case counts of different disease states of COVID19</caption><thead>    <tr>        <th class=\"blank level0\" ></th>        <th class=\"col_heading level0 col0\" colspan=2>reduce transmission by 30% by social distancing/mask/handwashing from day 0 to day 200</th>        <th class=\"col_heading level0 col2\" colspan=2>reduce transmission by 20% by social distancing/mask/handwashing from day 0 to day 200</th>        <th class=\"col_heading level0 col4\" colspan=2>reduce transmission by 10% by social distancing/mask/handwashing from day 0 to day 200</th>    </tr>    <tr>        <th class=\"blank level1\" ></th>        <th class=\"col_heading level1 col0\" >Delay in Peak Day IQR</th>        <th class=\"col_heading level1 col1\" >Reduction in Peak Number IQR</th>        <th class=\"col_heading level1 col2\" >Delay in Peak Day IQR</th>        <th class=\"col_heading level1 col3\" >Reduction in Peak Number IQR</th>        <th class=\"col_heading level1 col4\" >Delay in Peak Day IQR</th>        <th class=\"col_heading level1 col5\" >Reduction in Peak Number IQR</th>    </tr></thead><tbody>\n",
       "                <tr>\n",
       "                        <th id=\"T_37365f66_a20c_11ea_9583_acbc32839263level0_row0\" class=\"row_heading level0 row0\" >Incidence of Symptomatic Cases</th>\n",
       "                        <td id=\"T_37365f66_a20c_11ea_9583_acbc32839263row0_col0\" class=\"data row0 col0\" >17~37 days</td>\n",
       "                        <td id=\"T_37365f66_a20c_11ea_9583_acbc32839263row0_col1\" class=\"data row0 col1\" >33%~47%</td>\n",
       "                        <td id=\"T_37365f66_a20c_11ea_9583_acbc32839263row0_col2\" class=\"data row0 col2\" >9~20 days</td>\n",
       "                        <td id=\"T_37365f66_a20c_11ea_9583_acbc32839263row0_col3\" class=\"data row0 col3\" >21%~30%</td>\n",
       "                        <td id=\"T_37365f66_a20c_11ea_9583_acbc32839263row0_col4\" class=\"data row0 col4\" >4~8 days</td>\n",
       "                        <td id=\"T_37365f66_a20c_11ea_9583_acbc32839263row0_col5\" class=\"data row0 col5\" >10%~13%</td>\n",
       "            </tr>\n",
       "            <tr>\n",
       "                        <th id=\"T_37365f66_a20c_11ea_9583_acbc32839263level0_row1\" class=\"row_heading level0 row1\" >Hospitalisation Demand</th>\n",
       "                        <td id=\"T_37365f66_a20c_11ea_9583_acbc32839263row1_col0\" class=\"data row1 col0\" >18~38 days</td>\n",
       "                        <td id=\"T_37365f66_a20c_11ea_9583_acbc32839263row1_col1\" class=\"data row1 col1\" >30%~47%</td>\n",
       "                        <td id=\"T_37365f66_a20c_11ea_9583_acbc32839263row1_col2\" class=\"data row1 col2\" >10~20 days</td>\n",
       "                        <td id=\"T_37365f66_a20c_11ea_9583_acbc32839263row1_col3\" class=\"data row1 col3\" >18%~29%</td>\n",
       "                        <td id=\"T_37365f66_a20c_11ea_9583_acbc32839263row1_col4\" class=\"data row1 col4\" >5~9 days</td>\n",
       "                        <td id=\"T_37365f66_a20c_11ea_9583_acbc32839263row1_col5\" class=\"data row1 col5\" >7%~13%</td>\n",
       "            </tr>\n",
       "            <tr>\n",
       "                        <th id=\"T_37365f66_a20c_11ea_9583_acbc32839263level0_row2\" class=\"row_heading level0 row2\" >Critical Care Demand</th>\n",
       "                        <td id=\"T_37365f66_a20c_11ea_9583_acbc32839263row2_col0\" class=\"data row2 col0\" >18~38 days</td>\n",
       "                        <td id=\"T_37365f66_a20c_11ea_9583_acbc32839263row2_col1\" class=\"data row2 col1\" >14%~20%</td>\n",
       "                        <td id=\"T_37365f66_a20c_11ea_9583_acbc32839263row2_col2\" class=\"data row2 col2\" >10~20 days</td>\n",
       "                        <td id=\"T_37365f66_a20c_11ea_9583_acbc32839263row2_col3\" class=\"data row2 col3\" >0%~10%</td>\n",
       "                        <td id=\"T_37365f66_a20c_11ea_9583_acbc32839263row2_col4\" class=\"data row2 col4\" >5~9 days</td>\n",
       "                        <td id=\"T_37365f66_a20c_11ea_9583_acbc32839263row2_col5\" class=\"data row2 col5\" >0%~0%</td>\n",
       "            </tr>\n",
       "            <tr>\n",
       "                        <th id=\"T_37365f66_a20c_11ea_9583_acbc32839263level0_row3\" class=\"row_heading level0 row3\" >Incidence of Deaths</th>\n",
       "                        <td id=\"T_37365f66_a20c_11ea_9583_acbc32839263row3_col0\" class=\"data row3 col0\" >18~38 days</td>\n",
       "                        <td id=\"T_37365f66_a20c_11ea_9583_acbc32839263row3_col1\" class=\"data row3 col1\" >0%~50%</td>\n",
       "                        <td id=\"T_37365f66_a20c_11ea_9583_acbc32839263row3_col2\" class=\"data row3 col2\" >10~20 days</td>\n",
       "                        <td id=\"T_37365f66_a20c_11ea_9583_acbc32839263row3_col3\" class=\"data row3 col3\" >0%~50%</td>\n",
       "                        <td id=\"T_37365f66_a20c_11ea_9583_acbc32839263row3_col4\" class=\"data row3 col4\" >4~9 days</td>\n",
       "                        <td id=\"T_37365f66_a20c_11ea_9583_acbc32839263row3_col5\" class=\"data row3 col5\" >0%~50%</td>\n",
       "            </tr>\n",
       "    </tbody></table>"
      ],
      "text/plain": [
       "<pandas.io.formats.style.Styler at 0x1034c9990>"
      ]
     },
     "execution_count": 3,
     "metadata": {},
     "output_type": "execute_result"
    }
   ],
   "source": [
    "effectiveness_peak_table_hygiene(baseline,timing=False)"
   ]
  },
  {
   "cell_type": "markdown",
   "metadata": {},
   "source": [
    "Here we explore how strict these hygiene measures should be and quite rightly so, the better you can do it, the better the results in minimising the impact of the virus. (Further points - how large should the program cover in the total population and what if some people conform and other people disobey social distancing/masks/hand washing)"
   ]
  },
  {
   "cell_type": "code",
   "execution_count": null,
   "metadata": {},
   "outputs": [],
   "source": [
    "%time effectiveness_table_all(baseline)"
   ]
  },
  {
   "cell_type": "code",
   "execution_count": null,
   "metadata": {},
   "outputs": [],
   "source": [
    "plot_one_intervention_horizontal_interactive(plot_one_intervention_horizontal,baseline)"
   ]
  },
  {
   "cell_type": "code",
   "execution_count": null,
   "metadata": {},
   "outputs": [],
   "source": [
    "plot_one_intervention_vertical_interactive(plot_one_intervention_vertical)"
   ]
  },
  {
   "cell_type": "code",
   "execution_count": null,
   "metadata": {},
   "outputs": [],
   "source": [
    "plot_intervention_comparison_interactive(plot_intervention_comparison,baseline)"
   ]
  },
  {
   "cell_type": "code",
   "execution_count": null,
   "metadata": {},
   "outputs": [],
   "source": []
  }
 ],
 "metadata": {
  "kernelspec": {
   "display_name": "Python 3",
   "language": "python",
   "name": "python3"
  },
  "language_info": {
   "codemirror_mode": {
    "name": "ipython",
    "version": 3
   },
   "file_extension": ".py",
   "mimetype": "text/x-python",
   "name": "python",
   "nbconvert_exporter": "python",
   "pygments_lexer": "ipython3",
   "version": "3.7.6"
  },
  "widgets": {
   "application/vnd.jupyter.widget-state+json": {
    "state": {},
    "version_major": 2,
    "version_minor": 0
   }
  }
 },
 "nbformat": 4,
 "nbformat_minor": 4
}
