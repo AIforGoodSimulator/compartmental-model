{
 "cells": [
  {
   "cell_type": "code",
   "execution_count": 2,
   "metadata": {},
   "outputs": [],
   "source": [
    "import sys, os\n",
    "sys.path.append(os.path.abspath(os.path.join('..', 'Scripts')))"
   ]
  },
  {
   "cell_type": "code",
   "execution_count": 3,
   "metadata": {},
   "outputs": [],
   "source": [
    "# Now do your import\n",
    "from run_model import *"
   ]
  },
  {
   "cell_type": "code",
   "execution_count": 4,
   "metadata": {},
   "outputs": [],
   "source": [
    "tol=1e-5"
   ]
  },
  {
   "cell_type": "code",
   "execution_count": 5,
   "metadata": {},
   "outputs": [
    {
     "name": "stdout",
     "output_type": "stream",
     "text": [
      "running the model to produce results\n"
     ]
    }
   ],
   "source": [
    "solution=run_simulation(mode='test')"
   ]
  },
  {
   "cell_type": "code",
   "execution_count": 6,
   "metadata": {},
   "outputs": [],
   "source": [
    "#20 experiments are conducted\n",
    "assert len(solution)==20"
   ]
  },
  {
   "cell_type": "code",
   "execution_count": 7,
   "metadata": {},
   "outputs": [],
   "source": [
    "real_numbers=[num.real for num in list(solution.keys())]\n",
    "imag_numbers=[num.imag for num in list(solution.keys())]"
   ]
  },
  {
   "cell_type": "code",
   "execution_count": 8,
   "metadata": {},
   "outputs": [],
   "source": [
    "assert min(real_numbers)==params.R_0_list[0]"
   ]
  },
  {
   "cell_type": "code",
   "execution_count": 9,
   "metadata": {},
   "outputs": [],
   "source": [
    "assert max(real_numbers)==params.R_0_list[-1]"
   ]
  },
  {
   "cell_type": "code",
   "execution_count": 10,
   "metadata": {},
   "outputs": [],
   "source": [
    "assert sum(np.array(imag_numbers)!=0)==0"
   ]
  },
  {
   "cell_type": "code",
   "execution_count": 11,
   "metadata": {},
   "outputs": [
    {
     "data": {
      "text/plain": [
       "dict_keys([(2.5+0j), (2.789473684210526+0j), (3.0789473684210527+0j), (3.3684210526315783+0j), (3.6578947368421053+0j), (3.947368421052631+0j), (4.2368421052631575+0j), (4.526315789473684+0j), (4.815789473684211+0j), (5.105263157894737+0j), (5.394736842105264+0j), (5.684210526315789+0j), (5.973684210526315+0j), (6.2631578947368425+0j), (6.552631578947369+0j), (6.842105263157895+0j), (7.131578947368422+0j), (7.421052631578947+0j), (7.710526315789474+0j), (8+0j)])"
      ]
     },
     "execution_count": 11,
     "metadata": {},
     "output_type": "execute_result"
    }
   ],
   "source": [
    "solution.keys()"
   ]
  },
  {
   "cell_type": "code",
   "execution_count": 12,
   "metadata": {},
   "outputs": [],
   "source": [
    "data=solution[2.5]"
   ]
  },
  {
   "cell_type": "code",
   "execution_count": 13,
   "metadata": {},
   "outputs": [],
   "source": [
    "category_map = {    '0':  'S',\n",
    "                        '1':  'E',\n",
    "                        '2':  'I',\n",
    "                        '3':  'A',\n",
    "                        '4':  'R',\n",
    "                        '5':  'H',\n",
    "                        '6':  'C',\n",
    "                        '7':  'D',\n",
    "                        '8':  'O',\n",
    "                        '9':  'CS',\n",
    "                        '10': 'CE',\n",
    "                        '11': 'CI',\n",
    "                        '12': 'CA',\n",
    "                        '13': 'CR',\n",
    "                        '14': 'CH',\n",
    "                        '15': 'CC',\n",
    "                        '16': 'CD',\n",
    "                        '17': 'CO',\n",
    "                        '18': 'Ninf',\n",
    "                        }"
   ]
  },
  {
   "cell_type": "code",
   "execution_count": 14,
   "metadata": {},
   "outputs": [],
   "source": [
    "csv_sol = np.transpose(data['y']) # age structured\n",
    "\n",
    "solution_csv = pd.DataFrame(csv_sol)\n",
    "\n",
    "# setup column names\n",
    "col_names = []\n",
    "number_categories_with_age = csv_sol.shape[1]\n",
    "for i in range(number_categories_with_age):\n",
    "    ii = i % params.number_compartments\n",
    "    jj = floor(i/params.number_compartments)\n",
    "\n",
    "    col_names.append(categories[category_map[str(ii)]]['longname'] +  ': ' + str(np.asarray(population_frame.Age)[jj]) )\n",
    "\n",
    "solution_csv.columns = col_names\n",
    "solution_csv['Time'] = data['t']\n",
    "\n",
    "for j in range(len(categories.keys())): # params.number_compartments\n",
    "    solution_csv[categories[category_map[str(j)]]['longname']] = data['y_plot'][j] # summary/non age-structured\n",
    "# this is our dataframe to be saved"
   ]
  },
  {
   "cell_type": "code",
   "execution_count": 15,
   "metadata": {},
   "outputs": [
    {
     "data": {
      "text/plain": [
       "100.000000008"
      ]
     },
     "execution_count": 15,
     "metadata": {},
     "output_type": "execute_result"
    }
   ],
   "source": [
    "sum(population_frame.Population)"
   ]
  },
  {
   "cell_type": "code",
   "execution_count": 16,
   "metadata": {},
   "outputs": [],
   "source": [
    "assert abs(100-sum(population_frame.Population))<tol"
   ]
  },
  {
   "cell_type": "code",
   "execution_count": 17,
   "metadata": {},
   "outputs": [
    {
     "data": {
      "text/plain": [
       "0      1.000053\n",
       "1      1.000053\n",
       "2      1.000053\n",
       "3      1.000053\n",
       "4      1.000053\n",
       "         ...   \n",
       "196    1.000053\n",
       "197    1.000053\n",
       "198    1.000053\n",
       "199    1.000053\n",
       "200    1.000053\n",
       "Length: 201, dtype: float64"
      ]
     },
     "execution_count": 17,
     "metadata": {},
     "output_type": "execute_result"
    }
   ],
   "source": [
    "#sum across all the people across age compartments\n",
    "solution_csv.loc[:,solution_csv.columns[:72]].sum(axis=1)"
   ]
  },
  {
   "cell_type": "code",
   "execution_count": 18,
   "metadata": {},
   "outputs": [
    {
     "data": {
      "text/plain": [
       "0      1.000053\n",
       "1      1.000053\n",
       "2      1.000053\n",
       "3      1.000053\n",
       "4      1.000053\n",
       "         ...   \n",
       "196    1.000053\n",
       "197    1.000053\n",
       "198    1.000053\n",
       "199    1.000053\n",
       "200    1.000053\n",
       "Length: 201, dtype: float64"
      ]
     },
     "execution_count": 18,
     "metadata": {},
     "output_type": "execute_result"
    }
   ],
   "source": [
    "#sum across all 9 dieasease transition compartments\n",
    "solution_csv.loc[:,solution_csv.columns[73:82]].sum(axis=1)"
   ]
  },
  {
   "cell_type": "code",
   "execution_count": 19,
   "metadata": {},
   "outputs": [],
   "source": [
    "data=solution[2.789473684210526]"
   ]
  },
  {
   "cell_type": "code",
   "execution_count": 20,
   "metadata": {},
   "outputs": [],
   "source": [
    "csv_sol = np.transpose(data['y']) # age structured\n",
    "\n",
    "solution_csv = pd.DataFrame(csv_sol)\n",
    "\n",
    "# setup column names\n",
    "col_names = []\n",
    "number_categories_with_age = csv_sol.shape[1]\n",
    "for i in range(number_categories_with_age):\n",
    "    ii = i % params.number_compartments\n",
    "    jj = floor(i/params.number_compartments)\n",
    "\n",
    "    col_names.append(categories[category_map[str(ii)]]['longname'] +  ': ' + str(np.asarray(population_frame.Age)[jj]) )\n",
    "\n",
    "solution_csv.columns = col_names\n",
    "solution_csv['Time'] = data['t']\n",
    "\n",
    "for j in range(len(categories.keys())): # params.number_compartments\n",
    "    solution_csv[categories[category_map[str(j)]]['longname']] = data['y_plot'][j] # summary/non age-structured\n",
    "# this is our dataframe to be saved"
   ]
  },
  {
   "cell_type": "code",
   "execution_count": 21,
   "metadata": {},
   "outputs": [],
   "source": [
    "#sum across all the people across age compartments to see if that equals to all the people in different disease department\n",
    "assert sum(np.absolute(solution_csv.loc[:,solution_csv.columns[:72]].sum(axis=1)-solution_csv.loc[:,solution_csv.columns[73:82]].sum(axis=1))<tol)==len(solution_csv)"
   ]
  },
  {
   "cell_type": "code",
   "execution_count": 22,
   "metadata": {},
   "outputs": [],
   "source": [
    "#make sure the changes are correct\n",
    "assert np.all(solution_csv.loc[1:,solution_csv.columns[82:-1]].values==solution_csv.loc[:,solution_csv.columns[73:82]].diff().loc[1:,:].values)==True"
   ]
  },
  {
   "cell_type": "code",
   "execution_count": 28,
   "metadata": {},
   "outputs": [
    {
     "data": {
      "text/plain": [
       "0      0.000000e+00\n",
       "1      4.319504e-05\n",
       "2      3.977305e-05\n",
       "3      4.018075e-05\n",
       "4      4.311862e-05\n",
       "           ...     \n",
       "196   -4.305999e-08\n",
       "197   -3.870691e-08\n",
       "198   -3.478441e-08\n",
       "199   -3.126315e-08\n",
       "200   -2.810257e-08\n",
       "Name: Change in total active infections, Length: 201, dtype: float64"
      ]
     },
     "execution_count": 28,
     "metadata": {},
     "output_type": "execute_result"
    }
   ],
   "source": [
    "#final test in this one\n",
    "solution_csv['Change in total active infections']"
   ]
  },
  {
   "cell_type": "code",
   "execution_count": 37,
   "metadata": {},
   "outputs": [
    {
     "data": {
      "text/plain": [
       "0      0.000000e+00\n",
       "1      5.564808e-05\n",
       "2      9.511539e-05\n",
       "3      1.271005e-04\n",
       "4      1.566217e-04\n",
       "           ...     \n",
       "196    1.040211e-07\n",
       "197    9.350697e-08\n",
       "198    8.404562e-08\n",
       "199    7.553812e-08\n",
       "200    6.789428e-08\n",
       "Name: Exposed, Length: 201, dtype: float64"
      ]
     },
     "execution_count": 37,
     "metadata": {},
     "output_type": "execute_result"
    }
   ],
   "source": [
    "solution_csv['Exposed']"
   ]
  },
  {
   "cell_type": "code",
   "execution_count": 42,
   "metadata": {},
   "outputs": [
    {
     "data": {
      "text/plain": [
       "0               NaN\n",
       "1     -1.245304e-05\n",
       "2      3.057334e-07\n",
       "3      8.195606e-06\n",
       "4      1.359743e-05\n",
       "           ...     \n",
       "196   -3.135849e-08\n",
       "197   -2.819279e-08\n",
       "198   -2.532306e-08\n",
       "199   -2.275565e-08\n",
       "200   -2.045873e-08\n",
       "Length: 201, dtype: float64"
      ]
     },
     "execution_count": 42,
     "metadata": {},
     "output_type": "execute_result"
    }
   ],
   "source": [
    "solution_csv['Infected (symptomatic)'].diff()+solution_csv['Asymptomatically Infected'].diff()"
   ]
  },
  {
   "cell_type": "code",
   "execution_count": 31,
   "metadata": {},
   "outputs": [
    {
     "data": {
      "text/plain": [
       "0      5.347594e-05\n",
       "1      4.724941e-05\n",
       "2      4.740228e-05\n",
       "3      5.150008e-05\n",
       "4      5.829880e-05\n",
       "           ...     \n",
       "196    1.392804e-07\n",
       "197    1.251840e-07\n",
       "198    1.125225e-07\n",
       "199    1.011446e-07\n",
       "200    9.091528e-08\n",
       "Name: Asymptomatically Infected, Length: 201, dtype: float64"
      ]
     },
     "execution_count": 31,
     "metadata": {},
     "output_type": "execute_result"
    }
   ],
   "source": [
    "solution_csv['Asymptomatically Infected']"
   ]
  },
  {
   "cell_type": "code",
   "execution_count": null,
   "metadata": {},
   "outputs": [],
   "source": []
  }
 ],
 "metadata": {
  "kernelspec": {
   "display_name": "Python 3",
   "language": "python",
   "name": "python3"
  },
  "language_info": {
   "codemirror_mode": {
    "name": "ipython",
    "version": 3
   },
   "file_extension": ".py",
   "mimetype": "text/x-python",
   "name": "python",
   "nbconvert_exporter": "python",
   "pygments_lexer": "ipython3",
   "version": "3.7.6"
  }
 },
 "nbformat": 4,
 "nbformat_minor": 4
}
