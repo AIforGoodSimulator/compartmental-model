{
 "cells": [
  {
   "cell_type": "markdown",
   "metadata": {},
   "source": [
    "## Load contact matrices from Wuhan and tailor it to the camp of interest"
   ]
  },
  {
   "cell_type": "code",
   "execution_count": 1,
   "metadata": {},
   "outputs": [],
   "source": [
    "import pandas as pd\n",
    "import numpy as np"
   ]
  },
  {
   "cell_type": "code",
   "execution_count": 2,
   "metadata": {},
   "outputs": [],
   "source": [
    "wuhan_matrix=pd.read_csv('Contact_matrix_wuhan.csv',index_col=0)\n",
    "moria_params=pd.read_csv('moria_params.csv',index_col=0)"
   ]
  },
  {
   "cell_type": "code",
   "execution_count": 3,
   "metadata": {},
   "outputs": [],
   "source": [
    "moria_params_pop=moria_params[moria_params['Variable'] == 'Population_structure']"
   ]
  },
  {
   "cell_type": "code",
   "execution_count": 4,
   "metadata": {},
   "outputs": [],
   "source": [
    "moria_params_pop_value=moria_params_pop.Value.values"
   ]
  },
  {
   "cell_type": "code",
   "execution_count": 6,
   "metadata": {},
   "outputs": [],
   "source": [
    "contact_matrix=wuhan_matrix.values"
   ]
  },
  {
   "cell_type": "code",
   "execution_count": 7,
   "metadata": {},
   "outputs": [
    {
     "data": {
      "text/plain": [
       "(16, 16)"
      ]
     },
     "execution_count": 7,
     "metadata": {},
     "output_type": "execute_result"
    }
   ],
   "source": [
    "contact_matrix.shape"
   ]
  },
  {
   "cell_type": "code",
   "execution_count": 9,
   "metadata": {},
   "outputs": [],
   "source": [
    "# we have 1-16 in 5 year bands\n",
    "\n",
    "age_limits=np.array([0,10,20,30,40,50,60,70,80])\n",
    "n_categories=len(age_limits)-1\n",
    "ind_limits=(age_limits/5).astype(int)\n",
    "\n",
    "p=[]\n",
    "for cc in range(n_categories):\n",
    "    for i in range(ind_limits[cc],ind_limits[cc+1]):\n",
    "        p.append(moria_params_pop_value[cc]/(ind_limits[cc+1]-ind_limits[cc]))\n",
    "\n",
    "M=np.zeros((n_categories,n_categories))\n",
    "\n",
    "for rr in range(n_categories):\n",
    "    for cc in range(n_categories):\n",
    "        V2=0\n",
    "        sump=sum(p[(ind_limits[cc]+1):ind_limits[cc+1] ])*sum(p[(ind_limits[rr]+1):ind_limits[rr+1]])\n",
    "        for i in range(ind_limits[cc]+1,ind_limits[cc+1]):\n",
    "            for j in range(ind_limits[rr]+1,ind_limits[rr+1]):\n",
    "                    V2+=contact_matrix[j-1,i-1]*p[i-1]*p[j-1]/sump\n",
    "        M[rr,cc] = V2\n",
    "\n"
   ]
  },
  {
   "cell_type": "code",
   "execution_count": 10,
   "metadata": {},
   "outputs": [],
   "source": [
    "col_names=[]\n",
    "for i in range(M.shape[0]):\n",
    "    col_names.append('Age '+str(age_limits[i])+'-'+str(age_limits[i+1]))\n",
    "moria_contact_dict={}\n",
    "for col,index in zip(col_names,list(range(n_categories))):\n",
    "    moria_contact_dict[col]=M[:,index]"
   ]
  },
  {
   "cell_type": "code",
   "execution_count": 11,
   "metadata": {},
   "outputs": [],
   "source": [
    "moria_contact_matrix=pd.DataFrame.from_dict(moria_contact_dict)"
   ]
  },
  {
   "cell_type": "code",
   "execution_count": 12,
   "metadata": {},
   "outputs": [],
   "source": [
    "moria_contact_matrix.to_csv('moria_contact_matrix.csv')"
   ]
  },
  {
   "cell_type": "code",
   "execution_count": null,
   "metadata": {},
   "outputs": [],
   "source": []
  }
 ],
 "metadata": {
  "kernelspec": {
   "display_name": "Python 3",
   "language": "python",
   "name": "python3"
  },
  "language_info": {
   "codemirror_mode": {
    "name": "ipython",
    "version": 3
   },
   "file_extension": ".py",
   "mimetype": "text/x-python",
   "name": "python",
   "nbconvert_exporter": "python",
   "pygments_lexer": "ipython3",
   "version": "3.7.6"
  }
 },
 "nbformat": 4,
 "nbformat_minor": 4
}
