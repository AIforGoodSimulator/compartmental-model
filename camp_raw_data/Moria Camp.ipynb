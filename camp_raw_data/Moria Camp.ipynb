{
 "cells": [
  {
   "cell_type": "code",
   "execution_count": 10,
   "metadata": {},
   "outputs": [],
   "source": [
    "import matplotlib.pyplot as plt\n",
    "from scipy import interpolate\n",
    "import numpy as np\n",
    "import pandas as pd"
   ]
  },
  {
   "cell_type": "code",
   "execution_count": 21,
   "metadata": {},
   "outputs": [],
   "source": [
    "moria_age={\n",
    "    'age':['0-18 yr','19-49 yr','50-60 yr','60-80 yr'],'n_years':[18,30,10,20],'mid':[9,34,55,70],'total':[0.405,0.548,0.032,0.015]\n",
    "}"
   ]
  },
  {
   "cell_type": "code",
   "execution_count": 27,
   "metadata": {},
   "outputs": [
    {
     "data": {
      "image/png": "[encoded data removed]",
      "text/plain": [
       "<Figure size 432x288 with 1 Axes>"
      ]
     },
     "metadata": {
      "needs_background": "light"
     },
     "output_type": "display_data"
    }
   ],
   "source": [
    "moria_age_frame=pd.DataFrame.from_dict(moria_age)\n",
    "moria_age_frame['total_per_year']=moria_age_frame['total']/moria_age_frame['n_years']\n",
    "#save the age csv\n",
    "moria_age_frame.to_csv('moria_age_distribution.csv')\n",
    "f = interpolate.interp1d(moria_age_frame['mid'], moria_age_frame['total_per_year'],kind='slinear',fill_value='extrapolate')\n",
    "xnew = np.arange(0, 80, 1)\n",
    "ynew = f(xnew)   # use interpolation function returned by `interp1d`\n",
    "plt.plot(moria_age_frame['mid'], moria_age_frame['total_per_year'], 'o', xnew, ynew, '-')\n",
    "plt.show()"
   ]
  },
  {
   "cell_type": "code",
   "execution_count": 28,
   "metadata": {},
   "outputs": [],
   "source": [
    "ynew[ynew<0]=0\n",
    "age_fit={\n",
    "    'age':xnew,'prop':ynew\n",
    "}\n",
    "moria_age_fit=pd.DataFrame.from_dict(age_fit)\n",
    "moria_age_fit['age10']=np.floor(moria_age_fit['age']/10)*10\n",
    "age10_prop=moria_age_fit.groupby('age10').sum()['prop']\n",
    "age10_prop=age10_prop/age10_prop.sum()"
   ]
  },
  {
   "cell_type": "code",
   "execution_count": 42,
   "metadata": {
    "scrolled": true
   },
   "outputs": [],
   "source": [
    "moria_age10_prop=age10_prop.values*100"
   ]
  },
  {
   "cell_type": "code",
   "execution_count": 43,
   "metadata": {},
   "outputs": [
    {
     "data": {
      "text/plain": [
       "array([23.55120884, 21.83682285, 20.12243686, 17.57563836, 10.86677736,\n",
       "        4.16399095,  1.66882652,  0.21429825])"
      ]
     },
     "execution_count": 43,
     "metadata": {},
     "output_type": "execute_result"
    }
   ],
   "source": [
    "moria_age10_prop"
   ]
  },
  {
   "cell_type": "code",
   "execution_count": null,
   "metadata": {},
   "outputs": [],
   "source": [
    "#output to template"
   ]
  },
  {
   "cell_type": "code",
   "execution_count": 44,
   "metadata": {},
   "outputs": [],
   "source": [
    "import os\n",
    "cwd = os.getcwd()\n",
    "template=pd.read_csv(os.path.join(cwd,'camp_params_template.csv'))"
   ]
  },
  {
   "cell_type": "code",
   "execution_count": 45,
   "metadata": {},
   "outputs": [],
   "source": [
    "moria_age10=np.append(moria_age10_prop,[0,20000])\n",
    "assert template.shape[0]==len(moria_age10)"
   ]
  },
  {
   "cell_type": "code",
   "execution_count": 47,
   "metadata": {},
   "outputs": [],
   "source": [
    "template['Moria']=moria_age10"
   ]
  },
  {
   "cell_type": "code",
   "execution_count": 49,
   "metadata": {},
   "outputs": [],
   "source": [
    "template.to_csv('moria_params')"
   ]
  },
  {
   "cell_type": "code",
   "execution_count": null,
   "metadata": {},
   "outputs": [],
   "source": []
  }
 ],
 "metadata": {
  "kernelspec": {
   "display_name": "Python 3",
   "language": "python",
   "name": "python3"
  },
  "language_info": {
   "codemirror_mode": {
    "name": "ipython",
    "version": 3
   },
   "file_extension": ".py",
   "mimetype": "text/x-python",
   "name": "python",
   "nbconvert_exporter": "python",
   "pygments_lexer": "ipython3",
   "version": "3.7.6"
  }
 },
 "nbformat": 4,
 "nbformat_minor": 4
}
